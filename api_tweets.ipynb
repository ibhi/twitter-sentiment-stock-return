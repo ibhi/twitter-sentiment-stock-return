{
 "cells": [
  {
   "cell_type": "code",
   "execution_count": 100,
   "id": "4c46e7ac",
   "metadata": {},
   "outputs": [],
   "source": [
    "# scraping tweets using API in twitter website . I used this for validating my dataset."
   ]
  },
  {
   "cell_type": "code",
   "execution_count": 101,
   "id": "0ba1679a",
   "metadata": {},
   "outputs": [],
   "source": [
    "# import libraries\n",
    "import tweepy\n",
    "import config\n",
    "import pandas as pd\n"
   ]
  },
  {
   "cell_type": "code",
   "execution_count": 102,
   "id": "c88c4931",
   "metadata": {},
   "outputs": [],
   "source": [
    "# reading  a text file with the keys\n",
    "secrets_file = open(\"tweetsecrets.txt\",\"r\")\n",
    "string = secrets_file.read()\n",
    "string.split('\\n')\n",
    "\n",
    "secrets_dict={}\n",
    "for line in string.split('\\n'):\n",
    "    if len(line) > 0:\n",
    "        secrets_dict[line.split('=')[0]]=line.split('=')[1]\n"
   ]
  },
  {
   "cell_type": "code",
   "execution_count": 103,
   "id": "325d64d6",
   "metadata": {},
   "outputs": [],
   "source": [
    "#secrets_dict"
   ]
  },
  {
   "cell_type": "code",
   "execution_count": 104,
   "id": "9bc7f058",
   "metadata": {},
   "outputs": [
    {
     "name": "stdout",
     "output_type": "stream",
     "text": [
      "2022-10-28T00:00:00Z\n"
     ]
    }
   ],
   "source": [
    "# using the tweetpy client function, created a query for selecting the keywords which has stockmarket and price.\n",
    "import datetime\n",
    "import pytz\n",
    "start_time = datetime.datetime(2022,10,27).isoformat() + 'Z'\n",
    "end_time = datetime.datetime(2022,10,28).isoformat() + 'Z'\n",
    "\n",
    "print(d.isoformat() + 'Z')\n"
   ]
  },
  {
   "cell_type": "code",
   "execution_count": 105,
   "id": "f3f27c4f",
   "metadata": {},
   "outputs": [
    {
     "data": {
      "text/plain": [
       "Response(data=[<Tweet id=1585783348592398336 text='I could be wrong but feels a bounce day tomorrow \\n\\nMy focus is dip adds to $AMZN $AAPL $AMD $PINS $GOOGL and $MSFT\\n\\nBiotech positions intact as catalysts soon in November.'>, <Tweet id=1585783296520491010 text='$BOAS $GMFIW $FPAC $USER $GFGDW $AGFS $ELMS $TSLA $SPY $AAPL $GME $AMC - Get the Alert before the Move Automate, Sleep &amp; Earn with DRAT Smart Trader. Plan your trade.\\nhttps://t.co/yfMiXhVZqC\\n#dowstrademus #trading #stocks #option #options #DraTalerts #smarttrader https://t.co/JyH8mL352s'>, <Tweet id=1585783126281883649 text='@MasterPandaWu AAPL is green and SPY barely blinked douche bag 😂😂😂😂😂'>, <Tweet id=1585783079129739264 text='Glad we finally got some action toward the end of day! Trade safe everyone! $spy $qqq $aapl $meta #OptionsTrading #optionstrade #DayTrading #Daytrade https://t.co/kjlaRjtf1X'>, <Tweet id=1585783038554034176 text='Apple Inc. (AAPL) Q4 2022 Earnings Call Transcript https://t.co/mBx7798zqs'>, <Tweet id=1585783032434544641 text='Bought a bunch of blue chips that dumped er this week. 😎 $AAPL $META $AMZN'>, <Tweet id=1585783010397278208 text='If $AAPL don’t beat earnings after the bell we’re all gonna die 🤭'>, <Tweet id=1585782911240146946 text='@MMeatloaf7 No algo manipulations at all. AAPL ends the AH post ER at exactly, to the penny, the closing price of 0.00% change. Pure Fukery. https://t.co/bOUxT0pydv'>, <Tweet id=1585782907427328001 text='$AAPL one of most clear swing short trades ever'>, <Tweet id=1585782838250459136 text='Evercore ISI is calling Apple “the last FAANG standing”, calling 10% iPhone growth “robust” \\n\\n“We think AAPL remains uniquely positioned to sustain mid/high single digit sales and low/mid-teens EPS growth on a multiyear basis.”'>, <Tweet id=1585782830331826176 text='@KeithMcCullough I closed it out at 3pm. I thought they had an ace up there sleeve. Not sad. Up 500 basis points on the week from msft aapl and meta shorts'>, <Tweet id=1585782764980273154 text='@adoctoronfire @NorthmanTrader #AAPL collapse should be spectacular! https://t.co/pP5Gt0lQEK'>, <Tweet id=1585782647443243008 text=\"$AAPL just announced new App Store rules regarding NFTs:\\n\\n-- apps are allowed to list, mint, and transfer NFTs\\n-- BUT owning an NFT can't unlock any more features within the app\\n\\nis this bullish or bearish for crypto?\\n+ = potential mass adoption\\n- = limited feature set https://t.co/SxcJDhCke4\">, <Tweet id=1585782539213471749 text='$SPOT Spotify (SPOT) has pulled audiobook purchases from Apple (AAPL) iOS application, according to Verge'>, <Tweet id=1585782240843177984 text='My new FAANG is #TAB, Tesla, Apple, Butterfly. #tsla #aapl #bfly'>, <Tweet id=1585782060521619457 text='@unusual_whales And now $NSDQ and $S&amp;P500 depend (or are clinging) on the last one alive: $AAPL 🍎, the beheaded rider.\\n\\nDoubling down 📉🐻.'>, <Tweet id=1585782041358237696 text='Apple beats but comes up light on iPhone sales and services   @CNBC https://t.co/j0AhaUwOS5'>, <Tweet id=1585782011335421953 text='Great ah er plays on AMZN. and AAPL.  Both long at the dip.  Nice add to Ira account.'>, <Tweet id=1585781983426543617 text='Most winning trading chat!!! For a limited time, we are opening our trading chatroom to the public! \\nhttps://t.co/ZBTRgq18CE\\n\\n$GS $LIVE $EXPI $ELP $ARCO $EGRX $ORA $NVTA $AMWL $VGR $CFB $AAPL $MSFT $AMZN $GOOG $GOOGL $BABA $FB https://t.co/1gDfkLEMdX'>, <Tweet id=1585781834117705728 text='The best place for Traders to Gain  https://t.co/ZBTRgq18CE\\n\\n$SPY $AMZN $NVDA $BA $BABA $AMD $NFLX $FB $USO $DAL $UGAZ $DIS $QQQ $TSLA $AAPL $AAL $UBER $TWLO $TWTR $TVIX https://t.co/JnOhkWFY7I'>, <Tweet id=1585781754891206657 text='Apple (AAPL) earnings Q4\\xa02022 https://t.co/8RTvMZPRTe'>, <Tweet id=1585781725828767745 text='HONESTLY, who has lost you the most amount of $$$$?\\n$TSLA $AMZN $BTC $GOOG $MSFT $AAPL $META $NVDA $AMD'>, <Tweet id=1585781682594279425 text='It’s really amazing Place,\\nLot of thanks to this community...👇 \\nhttps://t.co/ZBTRgq18CE\\n\\n$TCEHY $RKT $FB $UBER $AYX $DDOG $BABA $BNGO $AAPL $SPAQ $KZIA $GRPN $RLFTF $ZSAN $CNDT $NIO $ADTX $ILMN $UPWK $EHTH $ABUS $DNLI $PLUG $TMUS https://t.co/S9nkmWllEe'>, <Tweet id=1585781615963291653 text='Great place to learn trading and to get instant help join our community \\nhttps://t.co/ZBTRgq0AN6\\n\\n$SPY $NDX $IWM $QQQ $BTC $ETH $AAPL $TSLA $AMC $MRNA $ROKU $AFRM $NURO $NVDA $NFLX $PLTR $UPST https://t.co/zgJtTcQEKY'>, <Tweet id=1585781420370411522 text='Apple beats but comes up light on iPhone sales and services   @CNBC https://t.co/Qhb2nM6it6'>, <Tweet id=1585781414863273984 text='$GOOGL Alphabet Option Alert: Jan, 2024 $125 Calls Sweep (60) near the Ask: 1736 @ $5.65 vs 10534 OI; Ref=$92.02 [10/27/2022, 10:12:19 AM] [+$900k] Other Sweeps on: $APA $SAM $WBD $AAPL $ATVI $SO'>, <Tweet id=1585781374136774656 text='@scotie11 Only the crooks know! They will hold a conference meeting tonight and look at the put flow. Then strategically pumped it up 6:00 am till 7 am $spy to $382 and pump $aapl to $148. It’s easy to read the crooks. Puts for $spy $375 and calls for $390 will both be worthless.'>, <Tweet id=1585781327412039687 text='Shiba Inu, Why this Token Could Come Back to the Top https://t.co/yJMUOVZPW0 cryptocurrency #cryptocurrencies #gold $AAPL $AMZN $GME $AME $TSLA #doge #dogecoin #financeandeconomy #fintech #digitalcurrency #digitalcurrency #currency #technology'>, <Tweet id=1585781263008686080 text='@TradersCom @ThePitBoss16 @harley_super Phone and services tell the story. Decelerating 4th quarter? Wearables or macs have never carried $AAPL'>, <Tweet id=1585781193127383040 text='Follow us to get instant updates and free trading analysis https://t.co/ZBTRgq18CE\\n\\n$SPY $NDX $IWM $QQQ $BTC $ETH $AAPL $TSLA $AMC $ROKU $AFRM $MRNA $NURO $AMD $NVDA https://t.co/2iuV9npzyE'>, <Tweet id=1585781150290571266 text='Not only is growth limited for $AAPL but they lack folding screen technology to stand toe to toe with Samsung'>, <Tweet id=1585781035874193408 text='Looking at data going back to 1930, Bank of America found that if an investor missed the S&amp;P 500′s 10 best days in each decade, total returns would be just 91%, strikingly below the 14,962% return for investors who held steady throughout the ups and downs.\\n\\n$amzn $spy $aapl $tsla'>, <Tweet id=1585780967079383040 text='Apple (AAPL) Q4 revenue and earnings beat Street view; iPhon.... https://t.co/qGtxzD10cz'>, <Tweet id=1585780923752419330 text='Best stock trade Group out there! \\nFree chatroom link below!\\n\\nhttps://t.co/ZBTRgq18CE\\n\\n$AMZN $AMD $SPY $QQQ $ATH $CCL $ASTX $AAPL $MSFY $BA $IMO $TRXC $CHK $MGM $MU $NKLA $GDEN $SPY $ONCT $DAL $WFC $JETS $ROKU $NOK $OXY $CCL $ASTX $RCL $DGLY $HTZ $PENN $GMBL $RGR $KTOV $GNUS https://t.co/T3xXxeKFqp'>, <Tweet id=1585780849848774656 text='Another great week! I made over 66k, A big thank you to this community https://t.co/ZBTRgq18CE\\n\\n$POLA $AAPL $NETE $TSLA $OEG $SPI $AAL $QQQ $ADXS $CBAT $AMD $SRNE $MSFT $VXRT $WKHS $SUNW $SPAQ $LCA $SBE $RAD $NETE $NKLA $SPY $GRAF $SHLL $PLUG $COST  $PENN $CODX $SSP $JBL $DRI https://t.co/joDZJVTMto'>, <Tweet id=1585780795871965185 text='I bought  a lot of $ES calls spread after $AMZN , before $AAPL ER results . Timing is really key here :  expect a super rally tomorrow opening , and flip short upon closing .'>, <Tweet id=1585780706721923072 text='I think @Josh_Young_1 is right… he was bullish $AAPL a decade ago… so we have at least to 2030…. #COM https://t.co/bt9zxNRvLJ'>, <Tweet id=1585780704583061509 text='$GOOGL $MSFT $META $AAPL $AMZN https://t.co/S4i9vmY2gU'>, <Tweet id=1585780686560104449 text=\"$AAPL NEW ARTICLE : Apple's Growth Is Limited, New Street's Ferragu Says https://t.co/FdjvXLBEz8 Get all the latest $AAPL related news here : https://t.co/hZbpp4EqUU https://t.co/G0d1ynkc8Y\">, <Tweet id=1585780675965112322 text='Apple beats but comes up light on iPhone sales and services  \\n\\nhttps://t.co/aqh7skUYMB'>, <Tweet id=1585780668239417345 text='$AAPL NEW ARTICLE : Apple Inc. (AAPL) Q4 2022 Earnings Call Transcript https://t.co/3iqHR3GWk3 Get all the latest $AAPL related news here : https://t.co/hZbpp4EqUU'>, <Tweet id=1585780637688102912 text='The day\\'s not over yet!  AAPL instructor and author Grace Terrell leads a discussion on value based care. The group discussed the best \"culture emphasizing performance frameworks\" at the Fall Institute #PhysicianLeadership https://t.co/e80xGcYNaj'>, <Tweet id=1585780583124258816 text=\"$NQ guys please don't short today. I don't want you to lose money. Order book is on buyers side now. large buys who loaded at 15:11 do you think they will let their money burn?\\n$AAPL is green means everything will turn Green.\\n\\n$AMZN is delicious. Pension funds loves dips. https://t.co/8Z73zfKhyp\">, <Tweet id=1585780579571798017 text='Levered up Credit Card funded Stock Portfolio Guy got rekt today $AMZN $AAPL\\n\\nhttps://t.co/po8tfwxwkO'>, <Tweet id=1585780574291214338 text='Apple Tops Estimates, Declines to Offer Q1 Forecast https://t.co/ukRDOqTJpr  $AAPL'>, <Tweet id=1585780569442598912 text='@nurpulad @I_Made_Millions \\n$AAPL $AMZN $SPY https://t.co/Ud8UMMSaay'>, <Tweet id=1585780343663362049 text='$FB $LOVE $WORK $AAL $AMD $MNTA $GLD $TWR $SLV $XOM $WMT $CCL $HD $TSLA $XLE $SPY $IWM $ES $WPX $BA $SPG $MCD $MFA $HTZ $AAPL $CHWY $QQQ $C $ES $AMC \\n\\nAlerts🔥\\n\\nUpdate🔥\\n\\nWatchlist, Chart\\n\\nCHATROOM 👇\\nWelcome https://t.co/ZBTRgq18CE https://t.co/8LYsAKU9vm'>, <Tweet id=1585780264403636224 text='Proshares UltraPro Short SQQQ is the way to go in the bear market https://t.co/PzcupNU9C2 #cryptocurrency #cryptocurrencies #gold $AAPL $AMZN $GME $AME $TSLA #doge #dogecoin #financeandeconomy #fintech #digitalcurrency #digitalcurrency #currency #technology'>, <Tweet id=1585780180584652800 text='The market now rides all on AAPL Thursday. That will be the make or break of any potential upside in markets.'>, <Tweet id=1585780164902158336 text=\"Trillion dollar companies ARE the economy.\\n\\nIt's foolish to think a company like $AAPL or $AMZN could sidestep a downturn during a recession. \\n\\nIf you're going to bet on growth, you're better off betting on a smaller, more nimble company in a new, rapidly growing industry.\">, <Tweet id=1585780126314160128 text='@DataProbability Factor the buyback if that continues, YOY cash on hand will be lower. Where did AAPL cash go the last 2 years?'>, <Tweet id=1585779985679253504 text='#toprintoo: Apple Inc (AAPL) stock dropped by 3.0465%! Currently priced at 144.8. https://t.co/ZNzDlYrOay'>, <Tweet id=1585779938468282368 text='Apple Inc (AAPL) stock is dropping! Currently priced at 144.8. For info https://t.co/aS7VGS1yzv'>, <Tweet id=1585779916511252480 text='$AAPL - Apple Inc. (AAPL) Q4 2022 Earnings Call Transcript. https://t.co/0qdsQXvEuB #trading #finance #markets'>, <Tweet id=1585779746511630338 text='@MichaelMOTTCM A down side momentum from here is likely to make inverse cup and handle as well. Today post earnings of $AAPL and $AMZN, $NQ rested the June bottom and now is moving up but it looks like the beginning of the end for this bull run at this moment.'>, <Tweet id=1585779741101260801 text='Apple beats but comes up light on iPhone sales and services $AAPL https://t.co/5LGgndxmzp'>, <Tweet id=1585779717239672832 text='Trending: S&amp;P 500\\n\\n$AAPL -2.71 %\\n$AMZN -16.83 %\\n$TWTR 0.97 %\\n$MET 0.51 %\\n$META -24.70 %\\n$INTC 1.98 %\\n$ABBV 0.14 %\\n$GOOGL -2.85 %\\n$ALGN -18.79 %\\n$MSFT -2.84 %\\n\\nhttps://t.co/WV3qS0l6fi'>, <Tweet id=1585779664886325250 text='Unscratched, a juggernaut \\n\\nRemains the best company on the planet \\n\\nWhile the rest of big tech $MSFT $GOOG $META and $AMZN got annihilated this earnings season and are in a downtrend for almost a year \\n\\nThis made a HL and is just 20% off its ATHs \\n\\n$AAPL https://t.co/bGUHIQUl9N'>, <Tweet id=1585779630526541824 text='@zerohedge Yet AAPL was still able to beat estimates and show slight growth'>, <Tweet id=1585779529041190914 text='Thanks for the alert &amp; updates\\nBest analysis so far\\n\\nhttps://t.co/ZBTRgq0AN6\\n\\n$FB $LOVE $WORK $AAL $AMD $MNTA $GLD $TWR $SLV $XOM  $WMT $CCL $HD $TSLA $XLE $SPY $IWM $ES $WPX $BA $SPG $MCD $MFA $HTZ $AAPL $CHWY $QQQ $C $ES $AMC https://t.co/Cw9Y6htQOw'>, <Tweet id=1585779503376338945 text='Harry Styles as a mer-creature in his new music video is something you’ll never unsee https://t.co/tjlRPxArL4  $AMC $DIS $AAPL $AMZN $SPOT'>, <Tweet id=1585779484510355461 text='$AAPL $ENPH $META $SPY $TSLA \\n@I_Made_Millions \\n\\n1. Egocentric\\n2. False she didn’t make millions\\n3. Wrong predict... https://t.co/yIZtjGP1c9'>, <Tweet id=1585779431401848833 text='@squawksquare $AAPL investors https://t.co/jroIj2S7Oy'>, <Tweet id=1585779379594235904 text='@dampedspring AAPL and META charts now feature huge gaps. Those may need to close before the False Dawn 2 trade exits stage right.'>, <Tweet id=1585779318394847233 text='@StockMKTNewz Apple (AAPL): Shares fluctuated in after-hours trading after Apple reported record revenue for its September quarter. The tech giant posted sales of $90.15 billion, up 8% from a year ago, while earnings were $1.29 per share.'>, <Tweet id=1585779317060952064 text=\"$LASE the problem with the stock market is it allows every dumbass with a phone to trade. If you don't understand that lase is PROFITABLE  and growing while you worship amazon (99 p/e) or pltr ( never sniffed a profit,  never will)  then you deserve to be poor. $AAPL $TSLA $SOBR\">, <Tweet id=1585779252456148992 text='$SPX $SPY $ES_F $DJI $QQQ $NDX $FB $AMZN $AAPL $MSFT $NFLX $GOOGL $TSLA \\nTo stay updated with trading experts join here https://t.co/ZBTRgpIZow https://t.co/DoBv87eBlI'>, <Tweet id=1585779220139347968 text='@ripster47 No, $AAPL is not a good investment at this price. Caveat Emptor. \\nhttps://t.co/bL23Ke4Pc5'>, <Tweet id=1585779187259957248 text='Apple (AAPL): Shares fluctuated in after-hours trading after Apple reported record revenue for its September quarter. The tech giant posted sales of $90.15 billion, up 8% from a year ago, while earnings were $1.29 per share.'>, <Tweet id=1585779081475674112 text=\"#AAPL All that Mr Market needs to know for now:\\n\\n1. Expect a big FX. impact of -10% to its next Q's revenue\\n2. Expect revenue growth to decelerate further\\n3. Cook is unable to give any more colour, blaming on economic uncertainty\\n\\nThis won't end well. 🔥🔥🔥 https://t.co/9l3CUf31kK\">, <Tweet id=1585779069798518785 text='Trending: DJIA\\n\\n$INTC 1.98 %\\n$AAPL -2.71 %\\n$WMT -0.81 %\\n$MSFT -2.84 %\\n$CAT 7.79 %\\n$MCD 3.12 %\\n$JNJ -0.12 %\\n$HD -0.03 %\\n$MRK 1.17 %\\n$DIS -0.54 %\\n\\nhttps://t.co/WV3qS0l6fi'>, <Tweet id=1585779056263499778 text='$AAPL\\n FEDS - buy everything that’s Apple don’t matter 🍎 🍏 or stock it’s all good FK the puts https://t.co/Bu1TAdfyQJ'>, <Tweet id=1585778800130129921 text='@alphaarchitect $msft $goog $aapl'>, <Tweet id=1585778710870773760 text='We find the 100% runners BEFORE the crowd!\\nChatroom:https://t.co/ZBTRgpIZow\\n\\n$ACB $NVAX $MRNA $CGC $DKNG $AAL $SAVE $UAL  $GE $BYND $SNAP $SPCE $NFLX $UBER $SHOP $TLRY $AAPL $BA $MSFT $AMZN $TWTR $FB $TSLA $GILD $AMD $GE $W $FREE $SHLL https://t.co/ynpgr9AxVc'>, <Tweet id=1585778704663212032 text='$AAPL\\n look at all the insider sales THIS month. Sr VPs selling tens of millions worth.'>, <Tweet id=1585778689077223424 text='What a bunch of quality analysts. Not one asked $AAPL about impact of ban on chip sales to China, about possible resession or any other risks. Apple is too big a client for IB to risk asking tough questions.'>, <Tweet id=1585778656189767682 text='Xi Jinping Wires Record Bonus to TikTok CEO for Burning Americans on the Metaverse 🔥 $AMZN $TSLA $QQQ $SPY #crypto $AAPL $NVDA #news #bitcoin $MSFT $AMD $BABA #biden $PDD $META $GOOGL #sunak #ukraine #china #amazon #metaverse #tiktok https://t.co/PjVMKMttc3'>, <Tweet id=1585778616683503616 text='$AAPL\\n Today was a great day to learn for the idiots that sold Apple based on Microsoft, Meta and Amazon results and especially today at 4pm…  \\nUnlike CNBC and other unhinged so called “analysts” that are telling the crowds what they want to hear,'>, <Tweet id=1585778530549665792 text='@katfelix909 There was a brief moment between AMZN and AAPL er’s when I thought the Earth might split in two. Then AAPL came through. Is it enough? Maybe for a little while. Betting jobs and housing will finish us off and we just wait on rates. Then the economy can be back to “LFG” mode'>, <Tweet id=1585778493438439424 text='$BTC #Bitcoin earnings are so much better than $AMZN $META $MFST $AAPL / BITCOIN 40K by Christmas'>, <Tweet id=1585778485532184576 text=\"STOCK, OPTIONS updates, alerts Free chatroom\\nDon't forget to take a trial! \\nhttps://t.co/ZBTRgq18CE\\n\\n$SPY $BABA $DVAX $ACB  $PENN $NVAX $NIO $AAL $NKLA $MSFT $AAPL $AMZN $TSLA $CCL $BILI $CVNA $DAL $TWTR https://t.co/jBso3ugwM7\">, <Tweet id=1585778452006768641 text=\"@ChartBreakouts Do you think it will last though if PCE comes in way or just below expectations. $AAPL is holding things up hours a bit,  but it doesnt seem like Macro's are in anyone's favor\">, <Tweet id=1585778434189320192 text='@kingblehme $AAPL puts aren’t looking good right now lol'>, <Tweet id=1585778427981955072 text='Jimmy chill @jimcramer finally capitulated on tech. \\n\\nThe bottom for $META $GOOGL $AAPL $AMZN?\\n\\nIts amazing the 🤡 has his own show.'>, <Tweet id=1585778398667804672 text='@annmarie @JavierBlas $AAPL makes some pretty good profit also. They should use that money to lower the cost of iPhones.'>, <Tweet id=1585778341373542400 text='Follow us if you find our Alerts useful https://t.co/ZBTRgpIZow\\n\\n$SPY $NDX $IWM $QQQ $BTC $ETH $AAPL $TSLA $AMC $NFLX $UPST $PLTR $SNAP $FB $BB https://t.co/3KpuKD0Pow'>, <Tweet id=1585778269768458240 text='Best discord group over 80k members and even have their own app join us \\nhttps://t.co/ZBTRgpIZow\\n\\n$SPY $NDX $IWM $QQQ $BTC $ETH $AAPL $TSLA $AMC $NAKD $SNAP $FB $AFRM $CRM $ROKU $PLTR $QS https://t.co/Q9oc7BBI77'>, <Tweet id=1585778170128637952 text='Apple Inc (AAPL) price at close, 2022-10-27, is 144.8.'>, <Tweet id=1585778143876505601 text='$AAPL one of the most mentioned on 4chan over the last 24 hours\\r\\rVia https://t.co/DoXFBxbWjw\\r\\r#aapl    #4chan  #trading https://t.co/OTC0mALKzl'>, <Tweet id=1585778107394433024 text='@asymco $AAPL at highs not seen since 1:22PM.'>, <Tweet id=1585778050402488320 text='Free Stock trading discord:  https://t.co/ZBTRgq18CE\\n\\n$GE $AAL $DIS $DAL $AAPL $MSFT $TSLA $SQ $NFLX $SPY $ROKU $SPCE $INO $UVXY $VXX $OXY https://t.co/NiA23W7pyx'>, <Tweet id=1585777980990976000 text='#TheOptionBlock 1139: \"$META Screws The Pooch\" with @optionvol and @MikeTosaw is now available. Stream from your favorite #podcast platform or listen now at https://t.co/MsVBjQ1oA8\\n$F $SHOP $LUV $F $AAPL $AMZN $RVLV $HST #OptionsTrading'>, <Tweet id=1585777861117743104 text='$BABA $TSLA $TAOP $JFK $CEMI $SPY $QQQ $SHOP $AMZN $NVDA $ROKU $EBAY $AMD $BB $DAL $DOW $KODK $AAPL $ESE\\nMost profitable trading community https://t.co/OjOdU06htJ https://t.co/bYOX3Pu6g9'>, <Tweet id=1585777791655677952 text='Good morning traders! 🌞\\n\\nNo changes to the plan today! \\nhttps://t.co/ZBTRgq0AN6\\nBest of luck 🍀🍀🍀\\n\\n$SPY $NDX $IWM $QQQ $BTC $ETH $AAPL $TSLA https://t.co/OVf7InCiTf'>, <Tweet id=1585777788447248384 text='After this week’s earnings, Evercore ISI captured it best:\\n\\n“AAPL: The Last FAANG Standing”'>, <Tweet id=1585777737125400578 text='$QCOM-intraday weakness in semis + $AAPL using them, $113P and ran 700+% :) closed them little under it though-bought today. Holding $SPY Jan. 2023 $310P and Nov 11 $NVDA $125P till $AMD earnings + have one $AAPL runner for tomorrow + $TSLA lottos #StockMarket #OptionsTrading https://t.co/GzL7imkMhn'>, <Tweet id=1585777623149744129 text='Watching $aapl after hours be like https://t.co/PF8c5qauhV'>, <Tweet id=1585777511539302400 text='AAPL, PINS Beat; AMZN, INTC Mixed but Down https://t.co/DZAcy0PauL #news #stocks #stockmarketnews'>, <Tweet id=1585777510670733313 text='Live Day-Trading room, Free access this room and get live alerts. Check out now..  https://t.co/ZBTRgpIZow\\n\\n$SUNW $JE $POLA $AAPL $SQQQ $TSLA $NIO $VALE $NKLA $SLV $GE $OEG $SUNW $PECK $POLA $RDIB $NETE $OMI $KLDO $LOGC $SSP $APOP $SCON $EXAS $MCHX $IPWR $FLUX https://t.co/nDEsYS4a2J'>, <Tweet id=1585777499564564480 text='Apple Earnings: iPhone Powers Growth, but Signs Point to a Slowdown https://t.co/DQQ8xACpDH https://t.co/IioepyRbin'>], includes={}, errors=[], meta={'newest_id': '1585783348592398336', 'oldest_id': '1585777499564564480', 'result_count': 100, 'next_token': 'b26v89c19zqg8o3fpzeljxj20vgr6y72502x78khfc3nh'})"
      ]
     },
     "execution_count": 105,
     "metadata": {},
     "output_type": "execute_result"
    }
   ],
   "source": [
    "client = tweepy.Client(secrets_dict['Bearer_Token'])\n",
    "query = \"AAPL  -is:retweet lang:en\"\n",
    "response = client.search_recent_tweets(query=query,max_results = 100, start_time= start_time, end_time = end_time, tweet_fields = ['author_id','created_at'])\n",
    "response"
   ]
  },
  {
   "cell_type": "code",
   "execution_count": 106,
   "id": "38ff9954",
   "metadata": {},
   "outputs": [
    {
     "data": {
      "text/plain": [
       "(100, 2)"
      ]
     },
     "execution_count": 106,
     "metadata": {},
     "output_type": "execute_result"
    }
   ],
   "source": [
    "# extracting the tweets and created a dataframe\n",
    "tweets = [tweet.text for tweet in response.data]\n",
    "date = [tweet.created_at for tweet in response.data]\n",
    "tweets_df = pd.DataFrame({'text': tweets ,'date':date})\n",
    "tweets_df.shape"
   ]
  },
  {
   "cell_type": "code",
   "execution_count": 107,
   "id": "1ee301d9",
   "metadata": {},
   "outputs": [
    {
     "data": {
      "text/html": [
       "<div>\n",
       "<style scoped>\n",
       "    .dataframe tbody tr th:only-of-type {\n",
       "        vertical-align: middle;\n",
       "    }\n",
       "\n",
       "    .dataframe tbody tr th {\n",
       "        vertical-align: top;\n",
       "    }\n",
       "\n",
       "    .dataframe thead th {\n",
       "        text-align: right;\n",
       "    }\n",
       "</style>\n",
       "<table border=\"1\" class=\"dataframe\">\n",
       "  <thead>\n",
       "    <tr style=\"text-align: right;\">\n",
       "      <th></th>\n",
       "      <th>text</th>\n",
       "      <th>date</th>\n",
       "    </tr>\n",
       "  </thead>\n",
       "  <tbody>\n",
       "    <tr>\n",
       "      <th>84</th>\n",
       "      <td>@annmarie @JavierBlas $AAPL makes some pretty ...</td>\n",
       "      <td>2022-10-27 23:40:07+00:00</td>\n",
       "    </tr>\n",
       "    <tr>\n",
       "      <th>56</th>\n",
       "      <td>Trending: S&amp;amp;P 500\\n\\n$AAPL -2.71 %\\n$AMZN ...</td>\n",
       "      <td>2022-10-27 23:45:21+00:00</td>\n",
       "    </tr>\n",
       "    <tr>\n",
       "      <th>94</th>\n",
       "      <td>After this week’s earnings, Evercore ISI captu...</td>\n",
       "      <td>2022-10-27 23:37:41+00:00</td>\n",
       "    </tr>\n",
       "  </tbody>\n",
       "</table>\n",
       "</div>"
      ],
      "text/plain": [
       "                                                 text  \\\n",
       "84  @annmarie @JavierBlas $AAPL makes some pretty ...   \n",
       "56  Trending: S&amp;P 500\\n\\n$AAPL -2.71 %\\n$AMZN ...   \n",
       "94  After this week’s earnings, Evercore ISI captu...   \n",
       "\n",
       "                        date  \n",
       "84 2022-10-27 23:40:07+00:00  \n",
       "56 2022-10-27 23:45:21+00:00  \n",
       "94 2022-10-27 23:37:41+00:00  "
      ]
     },
     "execution_count": 107,
     "metadata": {},
     "output_type": "execute_result"
    }
   ],
   "source": [
    "tweets_df.sample(3)"
   ]
  },
  {
   "cell_type": "code",
   "execution_count": 108,
   "id": "0eeb92ea",
   "metadata": {},
   "outputs": [],
   "source": [
    "# writing in a CSV file.\n",
    "\n",
    "#tweets_df.to_csv('tweets_date_validation.csv')"
   ]
  },
  {
   "cell_type": "code",
   "execution_count": 109,
   "id": "9524d95d",
   "metadata": {},
   "outputs": [
    {
     "data": {
      "text/plain": [
       "text    0\n",
       "date    0\n",
       "dtype: int64"
      ]
     },
     "execution_count": 109,
     "metadata": {},
     "output_type": "execute_result"
    }
   ],
   "source": [
    "tweets_df.isna().sum()"
   ]
  },
  {
   "cell_type": "code",
   "execution_count": 110,
   "id": "c7bd035b",
   "metadata": {},
   "outputs": [],
   "source": [
    "def api_tweets_date(stock_symbol,start_date,end_date):\n",
    "    client = tweepy.Client(secrets_dict['Bearer_Token'])\n",
    "    query = stock_symbol + \" -is:retweet lang:en\"\n",
    "    response = client.search_recent_tweets(query=query,max_results = 100, start_time= start_time, end_time = end_time, tweet_fields = ['author_id','created_at'])\n",
    "#response\n",
    "    tweets = [tweet.text for tweet in response.data]\n",
    "    date = [tweet.created_at for tweet in response.data]\n",
    "    tweets_df = pd.DataFrame({'text': tweets ,'date':date})\n",
    "    tweets_df.shape\n",
    "    return tweets_df"
   ]
  },
  {
   "cell_type": "code",
   "execution_count": 111,
   "id": "79e4cf21",
   "metadata": {},
   "outputs": [
    {
     "data": {
      "text/html": [
       "<div>\n",
       "<style scoped>\n",
       "    .dataframe tbody tr th:only-of-type {\n",
       "        vertical-align: middle;\n",
       "    }\n",
       "\n",
       "    .dataframe tbody tr th {\n",
       "        vertical-align: top;\n",
       "    }\n",
       "\n",
       "    .dataframe thead th {\n",
       "        text-align: right;\n",
       "    }\n",
       "</style>\n",
       "<table border=\"1\" class=\"dataframe\">\n",
       "  <thead>\n",
       "    <tr style=\"text-align: right;\">\n",
       "      <th></th>\n",
       "      <th>text</th>\n",
       "      <th>date</th>\n",
       "    </tr>\n",
       "  </thead>\n",
       "  <tbody>\n",
       "    <tr>\n",
       "      <th>0</th>\n",
       "      <td>I could be wrong but feels a bounce day tomorr...</td>\n",
       "      <td>2022-10-27 23:59:47+00:00</td>\n",
       "    </tr>\n",
       "    <tr>\n",
       "      <th>1</th>\n",
       "      <td>$BOAS $GMFIW $FPAC $USER $GFGDW $AGFS $ELMS $T...</td>\n",
       "      <td>2022-10-27 23:59:34+00:00</td>\n",
       "    </tr>\n",
       "    <tr>\n",
       "      <th>2</th>\n",
       "      <td>@MasterPandaWu AAPL is green and SPY barely bl...</td>\n",
       "      <td>2022-10-27 23:58:54+00:00</td>\n",
       "    </tr>\n",
       "    <tr>\n",
       "      <th>3</th>\n",
       "      <td>Glad we finally got some action toward the end...</td>\n",
       "      <td>2022-10-27 23:58:43+00:00</td>\n",
       "    </tr>\n",
       "    <tr>\n",
       "      <th>4</th>\n",
       "      <td>Apple Inc. (AAPL) Q4 2022 Earnings Call Transc...</td>\n",
       "      <td>2022-10-27 23:58:33+00:00</td>\n",
       "    </tr>\n",
       "    <tr>\n",
       "      <th>...</th>\n",
       "      <td>...</td>\n",
       "      <td>...</td>\n",
       "    </tr>\n",
       "    <tr>\n",
       "      <th>95</th>\n",
       "      <td>$QCOM-intraday weakness in semis + $AAPL using...</td>\n",
       "      <td>2022-10-27 23:37:29+00:00</td>\n",
       "    </tr>\n",
       "    <tr>\n",
       "      <th>96</th>\n",
       "      <td>Watching $aapl after hours be like https://t.c...</td>\n",
       "      <td>2022-10-27 23:37:02+00:00</td>\n",
       "    </tr>\n",
       "    <tr>\n",
       "      <th>97</th>\n",
       "      <td>AAPL, PINS Beat; AMZN, INTC Mixed but Down htt...</td>\n",
       "      <td>2022-10-27 23:36:35+00:00</td>\n",
       "    </tr>\n",
       "    <tr>\n",
       "      <th>98</th>\n",
       "      <td>Live Day-Trading room, Free access this room a...</td>\n",
       "      <td>2022-10-27 23:36:35+00:00</td>\n",
       "    </tr>\n",
       "    <tr>\n",
       "      <th>99</th>\n",
       "      <td>Apple Earnings: iPhone Powers Growth, but Sign...</td>\n",
       "      <td>2022-10-27 23:36:32+00:00</td>\n",
       "    </tr>\n",
       "  </tbody>\n",
       "</table>\n",
       "<p>100 rows × 2 columns</p>\n",
       "</div>"
      ],
      "text/plain": [
       "                                                 text  \\\n",
       "0   I could be wrong but feels a bounce day tomorr...   \n",
       "1   $BOAS $GMFIW $FPAC $USER $GFGDW $AGFS $ELMS $T...   \n",
       "2   @MasterPandaWu AAPL is green and SPY barely bl...   \n",
       "3   Glad we finally got some action toward the end...   \n",
       "4   Apple Inc. (AAPL) Q4 2022 Earnings Call Transc...   \n",
       "..                                                ...   \n",
       "95  $QCOM-intraday weakness in semis + $AAPL using...   \n",
       "96  Watching $aapl after hours be like https://t.c...   \n",
       "97  AAPL, PINS Beat; AMZN, INTC Mixed but Down htt...   \n",
       "98  Live Day-Trading room, Free access this room a...   \n",
       "99  Apple Earnings: iPhone Powers Growth, but Sign...   \n",
       "\n",
       "                        date  \n",
       "0  2022-10-27 23:59:47+00:00  \n",
       "1  2022-10-27 23:59:34+00:00  \n",
       "2  2022-10-27 23:58:54+00:00  \n",
       "3  2022-10-27 23:58:43+00:00  \n",
       "4  2022-10-27 23:58:33+00:00  \n",
       "..                       ...  \n",
       "95 2022-10-27 23:37:29+00:00  \n",
       "96 2022-10-27 23:37:02+00:00  \n",
       "97 2022-10-27 23:36:35+00:00  \n",
       "98 2022-10-27 23:36:35+00:00  \n",
       "99 2022-10-27 23:36:32+00:00  \n",
       "\n",
       "[100 rows x 2 columns]"
      ]
     },
     "execution_count": 111,
     "metadata": {},
     "output_type": "execute_result"
    }
   ],
   "source": [
    "start_date = datetime.datetime(2022,10,27).isoformat() + 'Z'\n",
    "end_date = datetime.datetime(2022,10,27).isoformat() + 'Z'\n",
    "api_tweets_date('AAPL',start_date,end_date)"
   ]
  },
  {
   "cell_type": "code",
   "execution_count": 112,
   "id": "9256b59a",
   "metadata": {},
   "outputs": [
    {
     "data": {
      "text/plain": [
       "DailyOpenCloseAgg(after_hours=155.83, close=155.74, from_='2022-10-28', high=157.5, low=147.82, open=148.2, pre_market=143.69, status='OK', symbol='AAPL', volume=164762371.0, otc=None)"
      ]
     },
     "execution_count": 112,
     "metadata": {},
     "output_type": "execute_result"
    }
   ],
   "source": [
    "from polygon import RESTClient\n",
    "client = RESTClient(secrets_dict[\"poly_api_key\"])\n",
    "response_poly = client.get_daily_open_close_agg(\"AAPL\",'2022-10-28')\n",
    "response_poly"
   ]
  },
  {
   "cell_type": "code",
   "execution_count": 113,
   "id": "edfaef8e",
   "metadata": {},
   "outputs": [],
   "source": [
    "\n",
    "# stock_data = {\n",
    "#     \"date\":[],\n",
    "#     \"open\":[],\n",
    "#     \"high\":[],\n",
    "#     \"low\":[],\n",
    "#     \"close\":[]\n",
    "  \n",
    "# }\n",
    "# stock_data[\"date\"].append(response_poly.from_)\n",
    "# stock_data[\"open\"].append(response_poly.open)\n",
    "# stock_data[\"high\"].append(response_poly.high)\n",
    "# stock_data[\"low\"].append(response_poly.low)\n",
    "# stock_data[\"close\"].append(response_poly.close)\n",
    "   \n",
    "\n",
    "# stock_data_df = pd.DataFrame(stock_data)\n"
   ]
  },
  {
   "cell_type": "code",
   "execution_count": 114,
   "id": "92e7793d",
   "metadata": {},
   "outputs": [],
   "source": [
    "#stock_data_df.head()"
   ]
  },
  {
   "cell_type": "code",
   "execution_count": 115,
   "id": "ee0de842",
   "metadata": {},
   "outputs": [],
   "source": [
    "def poly_stock_api():\n",
    "    stock_data = {\n",
    "    \"date\":[],\n",
    "    \"open\":[],\n",
    "    \"high\":[],\n",
    "    \"low\":[],\n",
    "    \"close\":[]\n",
    "  \n",
    "                }\n",
    "    stock_data[\"date\"].append(response_poly.from_)\n",
    "    stock_data[\"open\"].append(response_poly.open)\n",
    "    stock_data[\"high\"].append(response_poly.high)\n",
    "    stock_data[\"low\"].append(response_poly.low)\n",
    "    stock_data[\"close\"].append(response_poly.close)\n",
    "    return stock_data\n",
    "    "
   ]
  },
  {
   "cell_type": "code",
   "execution_count": 116,
   "id": "74d3ef48",
   "metadata": {},
   "outputs": [],
   "source": [
    "stock_data_df = pd.DataFrame(stock_data)"
   ]
  },
  {
   "cell_type": "code",
   "execution_count": 117,
   "id": "a879591d",
   "metadata": {},
   "outputs": [
    {
     "data": {
      "text/html": [
       "<div>\n",
       "<style scoped>\n",
       "    .dataframe tbody tr th:only-of-type {\n",
       "        vertical-align: middle;\n",
       "    }\n",
       "\n",
       "    .dataframe tbody tr th {\n",
       "        vertical-align: top;\n",
       "    }\n",
       "\n",
       "    .dataframe thead th {\n",
       "        text-align: right;\n",
       "    }\n",
       "</style>\n",
       "<table border=\"1\" class=\"dataframe\">\n",
       "  <thead>\n",
       "    <tr style=\"text-align: right;\">\n",
       "      <th></th>\n",
       "      <th>date</th>\n",
       "      <th>open</th>\n",
       "      <th>high</th>\n",
       "      <th>low</th>\n",
       "      <th>close</th>\n",
       "    </tr>\n",
       "  </thead>\n",
       "  <tbody>\n",
       "    <tr>\n",
       "      <th>0</th>\n",
       "      <td>2022-10-28</td>\n",
       "      <td>148.2</td>\n",
       "      <td>157.5</td>\n",
       "      <td>147.82</td>\n",
       "      <td>155.74</td>\n",
       "    </tr>\n",
       "  </tbody>\n",
       "</table>\n",
       "</div>"
      ],
      "text/plain": [
       "         date   open   high     low   close\n",
       "0  2022-10-28  148.2  157.5  147.82  155.74"
      ]
     },
     "execution_count": 117,
     "metadata": {},
     "output_type": "execute_result"
    }
   ],
   "source": [
    "stock_data_df"
   ]
  },
  {
   "cell_type": "code",
   "execution_count": null,
   "id": "7df1563e",
   "metadata": {},
   "outputs": [],
   "source": []
  }
 ],
 "metadata": {
  "kernelspec": {
   "display_name": "ml",
   "language": "python",
   "name": "ml"
  },
  "language_info": {
   "codemirror_mode": {
    "name": "ipython",
    "version": 3
   },
   "file_extension": ".py",
   "mimetype": "text/x-python",
   "name": "python",
   "nbconvert_exporter": "python",
   "pygments_lexer": "ipython3",
   "version": "3.10.6"
  },
  "toc": {
   "base_numbering": 1,
   "nav_menu": {},
   "number_sections": true,
   "sideBar": true,
   "skip_h1_title": false,
   "title_cell": "Table of Contents",
   "title_sidebar": "Contents",
   "toc_cell": false,
   "toc_position": {},
   "toc_section_display": true,
   "toc_window_display": false
  }
 },
 "nbformat": 4,
 "nbformat_minor": 5
}
