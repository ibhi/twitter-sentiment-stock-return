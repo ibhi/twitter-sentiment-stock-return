{
 "cells": [
  {
   "cell_type": "code",
   "execution_count": 44,
   "metadata": {},
   "outputs": [],
   "source": [
    "import numpy as np\n",
    "import pandas as pd\n",
    "import glob\n",
    "import os\n",
    "from tqdm.notebook import tqdm\n",
    "tqdm.pandas()\n",
    "\n",
    "%matplotlib inline\n",
    "import matplotlib.pyplot as plt\n",
    "import matplotlib.dates as mdates\n",
    "from matplotlib.dates import DateFormatter\n",
    "import seaborn as sns\n",
    "\n",
    "import nltk\n",
    "from nltk.corpus import stopwords\n",
    "from nltk.tokenize import word_tokenize\n",
    "from nltk.stem import WordNetLemmatizer\n",
    "import re\n",
    "import emoji\n",
    "\n",
    "from sklearn.linear_model import LogisticRegression\n",
    "from sklearn.naive_bayes import MultinomialNB\n",
    "from sklearn.linear_model import SGDClassifier\n",
    "from sklearn.tree import DecisionTreeClassifier\n",
    "from sklearn.svm import LinearSVC\n",
    "from sklearn.ensemble import RandomForestClassifier\n",
    "from sklearn.feature_extraction.text import CountVectorizer\n",
    "from sklearn.feature_extraction.text import TfidfVectorizer\n",
    "from sklearn.metrics import confusion_matrix\n",
    "from sklearn.metrics import classification_report\n",
    "from sklearn.model_selection import train_test_split\n",
    "\n",
    "from gensim.models import Word2Vec\n"
   ]
  },
  {
   "cell_type": "code",
   "execution_count": 45,
   "metadata": {},
   "outputs": [],
   "source": [
    "df = pd.read_csv('./dataset/Tweets/tweets-sentiment-roberta.csv')"
   ]
  },
  {
   "cell_type": "code",
   "execution_count": 46,
   "metadata": {},
   "outputs": [],
   "source": [
    "def get_df_info(df):\n",
    "    print('Dataframe shape: ', df.shape)\n",
    "    print('-----'*20)\n",
    "    print('Dataframe info: ')\n",
    "    print(df.info())\n",
    "    print('-----'*20)\n",
    "    print('Dataframe null values count:')\n",
    "    print(df.isna().sum())\n",
    "    print('-----'*20)\n",
    "    print('Dataframe duplicates count:')\n",
    "    print(df.duplicated().sum())\n",
    "    print('-----'*20)\n",
    "    print('Dataframe sample: ')\n",
    "    display(df.sample(10))"
   ]
  },
  {
   "cell_type": "code",
   "execution_count": 47,
   "metadata": {},
   "outputs": [
    {
     "name": "stdout",
     "output_type": "stream",
     "text": [
      "Dataframe shape:  (249025, 5)\n",
      "----------------------------------------------------------------------------------------------------\n",
      "Dataframe info: \n",
      "<class 'pandas.core.frame.DataFrame'>\n",
      "RangeIndex: 249025 entries, 0 to 249024\n",
      "Data columns (total 5 columns):\n",
      " #   Column   Non-Null Count   Dtype  \n",
      "---  ------   --------------   -----  \n",
      " 0   stock    249025 non-null  object \n",
      " 1   date     249025 non-null  object \n",
      " 2   tweets   249025 non-null  object \n",
      " 3   bearish  249025 non-null  float64\n",
      " 4   bullish  249025 non-null  float64\n",
      "dtypes: float64(2), object(3)\n",
      "memory usage: 9.5+ MB\n",
      "None\n",
      "----------------------------------------------------------------------------------------------------\n",
      "Dataframe null values count:\n",
      "stock      0\n",
      "date       0\n",
      "tweets     0\n",
      "bearish    0\n",
      "bullish    0\n",
      "dtype: int64\n",
      "----------------------------------------------------------------------------------------------------\n",
      "Dataframe duplicates count:\n",
      "0\n",
      "----------------------------------------------------------------------------------------------------\n",
      "Dataframe sample: \n"
     ]
    },
    {
     "data": {
      "text/html": [
       "<div>\n",
       "<style scoped>\n",
       "    .dataframe tbody tr th:only-of-type {\n",
       "        vertical-align: middle;\n",
       "    }\n",
       "\n",
       "    .dataframe tbody tr th {\n",
       "        vertical-align: top;\n",
       "    }\n",
       "\n",
       "    .dataframe thead th {\n",
       "        text-align: right;\n",
       "    }\n",
       "</style>\n",
       "<table border=\"1\" class=\"dataframe\">\n",
       "  <thead>\n",
       "    <tr style=\"text-align: right;\">\n",
       "      <th></th>\n",
       "      <th>stock</th>\n",
       "      <th>date</th>\n",
       "      <th>tweets</th>\n",
       "      <th>bearish</th>\n",
       "      <th>bullish</th>\n",
       "    </tr>\n",
       "  </thead>\n",
       "  <tbody>\n",
       "    <tr>\n",
       "      <th>21962</th>\n",
       "      <td>AMT</td>\n",
       "      <td>2019-10-16</td>\n",
       "      <td>$AMT could put in a minor top&lt;221.57  pic.twit...</td>\n",
       "      <td>0.054836</td>\n",
       "      <td>0.945164</td>\n",
       "    </tr>\n",
       "    <tr>\n",
       "      <th>234692</th>\n",
       "      <td>TSLA</td>\n",
       "      <td>2019-11-08</td>\n",
       "      <td>Congrats Mr Tesla, you made the team 🎉 \\n\\nWas...</td>\n",
       "      <td>0.041566</td>\n",
       "      <td>0.958434</td>\n",
       "    </tr>\n",
       "    <tr>\n",
       "      <th>204349</th>\n",
       "      <td>NFLX</td>\n",
       "      <td>2020-03-23</td>\n",
       "      <td>$FTR OVERSOLD! Bouncing AFTERHOURS💸📈✈ $AMW $CR...</td>\n",
       "      <td>0.001386</td>\n",
       "      <td>0.998615</td>\n",
       "    </tr>\n",
       "    <tr>\n",
       "      <th>17624</th>\n",
       "      <td>AAPL</td>\n",
       "      <td>2020-05-13</td>\n",
       "      <td>the #Markets have likely entered summer tradin...</td>\n",
       "      <td>0.995686</td>\n",
       "      <td>0.004314</td>\n",
       "    </tr>\n",
       "    <tr>\n",
       "      <th>203055</th>\n",
       "      <td>NFLX</td>\n",
       "      <td>2020-03-01</td>\n",
       "      <td>$NFLX wow. I actually see a potential rise thi...</td>\n",
       "      <td>0.015147</td>\n",
       "      <td>0.984854</td>\n",
       "    </tr>\n",
       "    <tr>\n",
       "      <th>199973</th>\n",
       "      <td>NFLX</td>\n",
       "      <td>2020-01-08</td>\n",
       "      <td>$NFLX: The Windsors Season 1 👑</td>\n",
       "      <td>0.630230</td>\n",
       "      <td>0.369770</td>\n",
       "    </tr>\n",
       "    <tr>\n",
       "      <th>32741</th>\n",
       "      <td>AMZN</td>\n",
       "      <td>2019-11-21</td>\n",
       "      <td>$AMZN so called \"Heavy calls\" OI; those are op...</td>\n",
       "      <td>0.004834</td>\n",
       "      <td>0.995166</td>\n",
       "    </tr>\n",
       "    <tr>\n",
       "      <th>166087</th>\n",
       "      <td>LUV</td>\n",
       "      <td>2020-05-16</td>\n",
       "      <td>$DAL $UAL $LUV $AAL\\n05.15.20 total traveler t...</td>\n",
       "      <td>0.189145</td>\n",
       "      <td>0.810855</td>\n",
       "    </tr>\n",
       "    <tr>\n",
       "      <th>67351</th>\n",
       "      <td>C</td>\n",
       "      <td>2020-03-15</td>\n",
       "      <td>OmFG!! $SPY $SPX $QQQ $IWM $DJI $AAPL $TSLA $F...</td>\n",
       "      <td>0.167925</td>\n",
       "      <td>0.832075</td>\n",
       "    </tr>\n",
       "    <tr>\n",
       "      <th>165074</th>\n",
       "      <td>LUV</td>\n",
       "      <td>2020-04-28</td>\n",
       "      <td>Southwest Hunkers Down For More financial Loss...</td>\n",
       "      <td>0.630525</td>\n",
       "      <td>0.369474</td>\n",
       "    </tr>\n",
       "  </tbody>\n",
       "</table>\n",
       "</div>"
      ],
      "text/plain": [
       "       stock        date                                             tweets  \\\n",
       "21962    AMT  2019-10-16  $AMT could put in a minor top<221.57  pic.twit...   \n",
       "234692  TSLA  2019-11-08  Congrats Mr Tesla, you made the team 🎉 \\n\\nWas...   \n",
       "204349  NFLX  2020-03-23  $FTR OVERSOLD! Bouncing AFTERHOURS💸📈✈ $AMW $CR...   \n",
       "17624   AAPL  2020-05-13  the #Markets have likely entered summer tradin...   \n",
       "203055  NFLX  2020-03-01  $NFLX wow. I actually see a potential rise thi...   \n",
       "199973  NFLX  2020-01-08                     $NFLX: The Windsors Season 1 👑   \n",
       "32741   AMZN  2019-11-21  $AMZN so called \"Heavy calls\" OI; those are op...   \n",
       "166087   LUV  2020-05-16  $DAL $UAL $LUV $AAL\\n05.15.20 total traveler t...   \n",
       "67351      C  2020-03-15  OmFG!! $SPY $SPX $QQQ $IWM $DJI $AAPL $TSLA $F...   \n",
       "165074   LUV  2020-04-28  Southwest Hunkers Down For More financial Loss...   \n",
       "\n",
       "         bearish   bullish  \n",
       "21962   0.054836  0.945164  \n",
       "234692  0.041566  0.958434  \n",
       "204349  0.001386  0.998615  \n",
       "17624   0.995686  0.004314  \n",
       "203055  0.015147  0.984854  \n",
       "199973  0.630230  0.369770  \n",
       "32741   0.004834  0.995166  \n",
       "166087  0.189145  0.810855  \n",
       "67351   0.167925  0.832075  \n",
       "165074  0.630525  0.369474  "
      ]
     },
     "metadata": {},
     "output_type": "display_data"
    }
   ],
   "source": [
    "get_df_info(df)"
   ]
  },
  {
   "cell_type": "code",
   "execution_count": 48,
   "metadata": {},
   "outputs": [
    {
     "data": {
      "text/html": [
       "<div>\n",
       "<style scoped>\n",
       "    .dataframe tbody tr th:only-of-type {\n",
       "        vertical-align: middle;\n",
       "    }\n",
       "\n",
       "    .dataframe tbody tr th {\n",
       "        vertical-align: top;\n",
       "    }\n",
       "\n",
       "    .dataframe thead th {\n",
       "        text-align: right;\n",
       "    }\n",
       "</style>\n",
       "<table border=\"1\" class=\"dataframe\">\n",
       "  <thead>\n",
       "    <tr style=\"text-align: right;\">\n",
       "      <th></th>\n",
       "      <th>stock</th>\n",
       "      <th>date</th>\n",
       "      <th>tweets</th>\n",
       "      <th>bearish</th>\n",
       "      <th>bullish</th>\n",
       "      <th>sentiment</th>\n",
       "    </tr>\n",
       "  </thead>\n",
       "  <tbody>\n",
       "    <tr>\n",
       "      <th>0</th>\n",
       "      <td>AAPL</td>\n",
       "      <td>2019-07-15</td>\n",
       "      <td>Top 5 Apple Prime Day deals  http://dlvr.it/R8...</td>\n",
       "      <td>0.001388</td>\n",
       "      <td>0.998612</td>\n",
       "      <td>bullish</td>\n",
       "    </tr>\n",
       "    <tr>\n",
       "      <th>1</th>\n",
       "      <td>AAPL</td>\n",
       "      <td>2019-07-15</td>\n",
       "      <td>CCI Buy Signals : $AAPL $GDXJ $GH $ZS $JNUG</td>\n",
       "      <td>0.001409</td>\n",
       "      <td>0.998591</td>\n",
       "      <td>bullish</td>\n",
       "    </tr>\n",
       "    <tr>\n",
       "      <th>2</th>\n",
       "      <td>AAPL</td>\n",
       "      <td>2019-07-15</td>\n",
       "      <td>Traders checkout these trade plans given over ...</td>\n",
       "      <td>0.001429</td>\n",
       "      <td>0.998571</td>\n",
       "      <td>bullish</td>\n",
       "    </tr>\n",
       "    <tr>\n",
       "      <th>3</th>\n",
       "      <td>AAPL</td>\n",
       "      <td>2019-07-15</td>\n",
       "      <td>272 stocks   \\nMoved Above Upper Price Channel...</td>\n",
       "      <td>0.001382</td>\n",
       "      <td>0.998618</td>\n",
       "      <td>bullish</td>\n",
       "    </tr>\n",
       "    <tr>\n",
       "      <th>4</th>\n",
       "      <td>AAPL</td>\n",
       "      <td>2019-07-15</td>\n",
       "      <td>Watch what happened at 3:23 in @NaviAvatar1's ...</td>\n",
       "      <td>0.001471</td>\n",
       "      <td>0.998529</td>\n",
       "      <td>bullish</td>\n",
       "    </tr>\n",
       "  </tbody>\n",
       "</table>\n",
       "</div>"
      ],
      "text/plain": [
       "  stock        date                                             tweets  \\\n",
       "0  AAPL  2019-07-15  Top 5 Apple Prime Day deals  http://dlvr.it/R8...   \n",
       "1  AAPL  2019-07-15        CCI Buy Signals : $AAPL $GDXJ $GH $ZS $JNUG   \n",
       "2  AAPL  2019-07-15  Traders checkout these trade plans given over ...   \n",
       "3  AAPL  2019-07-15  272 stocks   \\nMoved Above Upper Price Channel...   \n",
       "4  AAPL  2019-07-15  Watch what happened at 3:23 in @NaviAvatar1's ...   \n",
       "\n",
       "    bearish   bullish sentiment  \n",
       "0  0.001388  0.998612   bullish  \n",
       "1  0.001409  0.998591   bullish  \n",
       "2  0.001429  0.998571   bullish  \n",
       "3  0.001382  0.998618   bullish  \n",
       "4  0.001471  0.998529   bullish  "
      ]
     },
     "execution_count": 48,
     "metadata": {},
     "output_type": "execute_result"
    }
   ],
   "source": [
    "df['sentiment'] = df[['bearish', 'bullish']].idxmax(axis = 1)\n",
    "df.head()"
   ]
  },
  {
   "cell_type": "code",
   "execution_count": 49,
   "metadata": {},
   "outputs": [
    {
     "name": "stderr",
     "output_type": "stream",
     "text": [
      "[nltk_data] Downloading package stopwords to\n",
      "[nltk_data]     /Users/ibrahim/nltk_data...\n",
      "[nltk_data]   Package stopwords is already up-to-date!\n"
     ]
    },
    {
     "data": {
      "text/plain": [
       "True"
      ]
     },
     "execution_count": 49,
     "metadata": {},
     "output_type": "execute_result"
    }
   ],
   "source": [
    "nltk.download('stopwords')"
   ]
  },
  {
   "cell_type": "code",
   "execution_count": 50,
   "metadata": {},
   "outputs": [],
   "source": [
    "# Reusable model function\n",
    "def fit_train_predict_model(X_train, y_train, X_test, y_test):\n",
    "    models = [\n",
    "        LogisticRegression(C = 2, solver='liblinear', max_iter=1000),\n",
    "        RandomForestClassifier()\n",
    "        # DecisionTreeClassifier(),\n",
    "        # MultinomialNB(),\n",
    "        # SGDClassifier(max_iter=100),\n",
    "        # LinearSVC(C = 2, max_iter=500)\n",
    "    ]\n",
    "    for model in models:\n",
    "        model.fit(X_train, y_train)\n",
    "        y_pred_test = model.predict(X_test)\n",
    "        print('======='*10)\n",
    "        print(type(model).__name__)\n",
    "        print('======='*10)\n",
    "        print(classification_report(y_test, y_pred_test))\n",
    "        sns.heatmap(confusion_matrix(y_test, y_pred_test), annot=True)\n",
    "        plt.show()\n",
    "    \n",
    "    return models"
   ]
  },
  {
   "cell_type": "code",
   "execution_count": 51,
   "metadata": {},
   "outputs": [],
   "source": [
    "class Preprocessor:\n",
    "    def __init__(\n",
    "        self, \n",
    "        stopwords=stopwords.words('english'), \n",
    "        vectorizer = CountVectorizer(max_features=30000, ngram_range=(1,3))\n",
    "    ):\n",
    "        self.stopwords = stopwords\n",
    "        self.vectorizer = vectorizer\n",
    "        self.vectorizer_fitted = False\n",
    "        self.wnl = WordNetLemmatizer()\n",
    "        self.usernam_pattern = re.compile(r'(\\@)(\\S+)')\n",
    "        self.twitter_handle_pattern = re.compile(r'(\\#)(\\S+)')\n",
    "    \n",
    "    def clean_tweet(self, texts):\n",
    "        print('Cleaning...')\n",
    "        cleaned_texts = []\n",
    "        for text in texts:\n",
    "            # Replace @usernames with the text mention_\n",
    "            text = re.sub(self.usernam_pattern, r'mention_\\2', text)\n",
    "            # Replace #hashtags with the text hashtag_\n",
    "            text = re.sub(self.twitter_handle_pattern, r'hashtag_\\2', text)\n",
    "            # remove URLs\n",
    "            text = re.sub(r'https?://\\S+', \"\", text)\n",
    "            text = re.sub(r'www.\\S+', \"\", text)\n",
    "            # remove $cashtags\n",
    "            text = re.sub(r'(\\$)([A-Za-z]+)', r'cashtag_\\2', text)\n",
    "            # remove extra spaces\n",
    "            text = re.sub(r' +', '', text)\n",
    "            # deemojize\n",
    "            text = emoji.demojize(text, delimiters=(\"\", \" \"))\n",
    "            text = text.strip()\n",
    "            cleaned_texts.append(text)\n",
    "\n",
    "        return cleaned_texts\n",
    "    \n",
    "    def tokenize(self, texts):\n",
    "        return [word_tokenize(text) for text in texts]\n",
    "\n",
    "    def lemmatize(self, texts):\n",
    "        print('Lemmatizing...')\n",
    "        tokens_list = self.tokenize(texts)\n",
    "        return [' '.join([self.wnl.lemmatize(token) for token in text]) for text in tokens_list]\n",
    "\n",
    "    def transform(self, X, y=None, mode='train'):\n",
    "        X = X.copy()\n",
    "        # print('Removing Nans...')\n",
    "        # X = X[~X.isnull()]                          # delete nans\n",
    "        # X = X[~X.duplicated()]                      # delete duplicates\n",
    "        \n",
    "        # X = self.remove_stopwords(X)                 # remove stopwords\n",
    "        X = self.clean_tweet(X)\n",
    "        X = self.lemmatize(X)                        # lemmatize\n",
    "        \n",
    "        if (mode == 'train'):\n",
    "            # self.vectorizer_fitted = True\n",
    "            print('Fitting vectorizer...')\n",
    "            self.vectorizer.fit(X)\n",
    "\n",
    "        print('Vectorizing...')\n",
    "        X = self.vectorizer.transform(X)             # vectorize\n",
    "        \n",
    "        return X"
   ]
  },
  {
   "cell_type": "markdown",
   "metadata": {},
   "source": [
    "### Train test split"
   ]
  },
  {
   "cell_type": "code",
   "execution_count": 52,
   "metadata": {},
   "outputs": [],
   "source": [
    "(X_train, X_test, y_train, y_test) = train_test_split(df['tweets'], df['sentiment'], test_size=0.2)"
   ]
  },
  {
   "cell_type": "markdown",
   "metadata": {},
   "source": [
    "### Preprocess using CountVectorizer (Bag of words)"
   ]
  },
  {
   "cell_type": "code",
   "execution_count": 53,
   "metadata": {},
   "outputs": [],
   "source": [
    "X_cv_train = X_train.copy()\n",
    "X_cv_test = X_test.copy()"
   ]
  },
  {
   "cell_type": "code",
   "execution_count": 54,
   "metadata": {},
   "outputs": [
    {
     "name": "stdout",
     "output_type": "stream",
     "text": [
      "Cleaning...\n",
      "Lemmatizing...\n",
      "Fitting vectorizer...\n",
      "Vectorizing...\n",
      "Cleaning...\n",
      "Lemmatizing...\n",
      "Vectorizing...\n"
     ]
    }
   ],
   "source": [
    "cv_preprocessor = Preprocessor() # Default vectorizer is the CountVectorizer\n",
    "\n",
    "X_cv_train = cv_preprocessor.transform(X_cv_train)\n",
    "X_cv_test = cv_preprocessor.transform(X_cv_test, mode='test')"
   ]
  },
  {
   "cell_type": "code",
   "execution_count": 55,
   "metadata": {},
   "outputs": [
    {
     "name": "stdout",
     "output_type": "stream",
     "text": [
      "(199220, 30000)\n",
      "(199220,)\n"
     ]
    }
   ],
   "source": [
    "print(X_cv_train.shape)\n",
    "print(y_train.shape)"
   ]
  },
  {
   "cell_type": "code",
   "execution_count": 56,
   "metadata": {},
   "outputs": [
    {
     "name": "stdout",
     "output_type": "stream",
     "text": [
      "======================================================================\n",
      "LogisticRegression\n",
      "======================================================================\n",
      "              precision    recall  f1-score   support\n",
      "\n",
      "     bearish       0.77      0.24      0.36     11792\n",
      "     bullish       0.81      0.98      0.88     38013\n",
      "\n",
      "    accuracy                           0.80     49805\n",
      "   macro avg       0.79      0.61      0.62     49805\n",
      "weighted avg       0.80      0.80      0.76     49805\n",
      "\n"
     ]
    },
    {
     "data": {
      "image/png": "[encoded data removed]",
      "text/plain": [
       "<Figure size 432x288 with 2 Axes>"
      ]
     },
     "metadata": {
      "needs_background": "light"
     },
     "output_type": "display_data"
    },
    {
     "name": "stdout",
     "output_type": "stream",
     "text": [
      "======================================================================\n",
      "RandomForestClassifier\n",
      "======================================================================\n",
      "              precision    recall  f1-score   support\n",
      "\n",
      "     bearish       0.71      0.31      0.43     11792\n",
      "     bullish       0.82      0.96      0.88     38013\n",
      "\n",
      "    accuracy                           0.81     49805\n",
      "   macro avg       0.76      0.63      0.66     49805\n",
      "weighted avg       0.79      0.81      0.78     49805\n",
      "\n"
     ]
    },
    {
     "data": {
      "image/png": "[encoded data removed]",
      "text/plain": [
       "<Figure size 432x288 with 2 Axes>"
      ]
     },
     "metadata": {
      "needs_background": "light"
     },
     "output_type": "display_data"
    },
    {
     "data": {
      "text/plain": [
       "[LogisticRegression(C=2, max_iter=1000, solver='liblinear'),\n",
       " RandomForestClassifier()]"
      ]
     },
     "execution_count": 56,
     "metadata": {},
     "output_type": "execute_result"
    }
   ],
   "source": [
    "fit_train_predict_model(X_cv_train, y_train, X_cv_test, y_test)"
   ]
  },
  {
   "cell_type": "markdown",
   "metadata": {},
   "source": [
    "### Vectorize the text feature using Tfidf Vectorizer"
   ]
  },
  {
   "cell_type": "code",
   "execution_count": 57,
   "metadata": {},
   "outputs": [],
   "source": [
    "X_tfidf_train = X_train.copy()\n",
    "X_tfidf_test = X_test.copy()"
   ]
  },
  {
   "cell_type": "code",
   "execution_count": 58,
   "metadata": {},
   "outputs": [
    {
     "name": "stdout",
     "output_type": "stream",
     "text": [
      "Cleaning...\n",
      "Lemmatizing...\n",
      "Fitting vectorizer...\n",
      "Vectorizing...\n",
      "Cleaning...\n",
      "Lemmatizing...\n",
      "Vectorizing...\n"
     ]
    }
   ],
   "source": [
    "tfidf_preprocessor = Preprocessor(vectorizer=TfidfVectorizer(lowercase=False, max_features=30000, min_df=10, ngram_range=(1, 3)))\n",
    "\n",
    "X_tfidf_train = tfidf_preprocessor.transform(X_tfidf_train)\n",
    "X_tfidf_test = tfidf_preprocessor.transform(X_tfidf_test, mode='test')\n"
   ]
  },
  {
   "cell_type": "code",
   "execution_count": 59,
   "metadata": {},
   "outputs": [
    {
     "name": "stdout",
     "output_type": "stream",
     "text": [
      "======================================================================\n",
      "LogisticRegression\n",
      "======================================================================\n",
      "              precision    recall  f1-score   support\n",
      "\n",
      "     bearish       0.79      0.20      0.31     11792\n",
      "     bullish       0.80      0.98      0.88     38013\n",
      "\n",
      "    accuracy                           0.80     49805\n",
      "   macro avg       0.79      0.59      0.60     49805\n",
      "weighted avg       0.80      0.80      0.75     49805\n",
      "\n"
     ]
    },
    {
     "data": {
      "image/png": "[encoded data removed]",
      "text/plain": [
       "<Figure size 432x288 with 2 Axes>"
      ]
     },
     "metadata": {
      "needs_background": "light"
     },
     "output_type": "display_data"
    },
    {
     "name": "stdout",
     "output_type": "stream",
     "text": [
      "======================================================================\n",
      "RandomForestClassifier\n",
      "======================================================================\n",
      "              precision    recall  f1-score   support\n",
      "\n",
      "     bearish       0.75      0.26      0.39     11792\n",
      "     bullish       0.81      0.97      0.88     38013\n",
      "\n",
      "    accuracy                           0.80     49805\n",
      "   macro avg       0.78      0.62      0.64     49805\n",
      "weighted avg       0.80      0.80      0.77     49805\n",
      "\n"
     ]
    },
    {
     "data": {
      "image/png": "[encoded data removed]",
      "text/plain": [
       "<Figure size 432x288 with 2 Axes>"
      ]
     },
     "metadata": {
      "needs_background": "light"
     },
     "output_type": "display_data"
    },
    {
     "data": {
      "text/plain": [
       "[LogisticRegression(C=2, max_iter=1000, solver='liblinear'),\n",
       " RandomForestClassifier()]"
      ]
     },
     "execution_count": 59,
     "metadata": {},
     "output_type": "execute_result"
    }
   ],
   "source": [
    "fit_train_predict_model(X_tfidf_train, y_train, X_tfidf_test, y_test)"
   ]
  },
  {
   "cell_type": "markdown",
   "metadata": {},
   "source": [
    "### Word2Vec vectorization"
   ]
  },
  {
   "cell_type": "code",
   "execution_count": 60,
   "metadata": {},
   "outputs": [],
   "source": [
    "class Word2Vectorizer():\n",
    "    def __init__(self):\n",
    "        self.model = None\n",
    "        self.vector_size = 1000\n",
    "\n",
    "    def fit(self, X):\n",
    "        tweet_list = [word_tokenize(tweet) for tweet in X]\n",
    "        model = Word2Vec(tweet_list, min_count = 1, window = 3, sg = 1, workers = 8, max_vocab_size = 40000, vector_size=self.vector_size)\n",
    "        self.model = model\n",
    "        print(len(model.wv))\n",
    "    \n",
    "    #Build word vector for training set by using the average value of all word vectors in the tweet, then scale\n",
    "    def __buildWordVector(self, text, size):\n",
    "        vec = np.zeros(size)\n",
    "        count = 0.\n",
    "        for word in text:\n",
    "            try:\n",
    "                vec += self.model.wv[word]\n",
    "                count += 1.\n",
    "            except KeyError:\n",
    "                continue\n",
    "        if count != 0:\n",
    "            vec /= count\n",
    "        return vec\n",
    "\n",
    "    def transform(self, X):\n",
    "        # self.model = gensim.models.Word2Vec.load('tweets.embedding')\n",
    "        tweet_list = [word_tokenize(tweet) for tweet in X]\n",
    "        return [self.__buildWordVector(tweet, self.vector_size) for tweet in tweet_list]\n",
    "         "
   ]
  },
  {
   "cell_type": "code",
   "execution_count": 64,
   "metadata": {},
   "outputs": [],
   "source": [
    "X_w2v_train = X_train.copy()\n",
    "X_w2v_test = X_test.copy()"
   ]
  },
  {
   "cell_type": "code",
   "execution_count": 65,
   "metadata": {},
   "outputs": [
    {
     "name": "stdout",
     "output_type": "stream",
     "text": [
      "Cleaning...\n",
      "Lemmatizing...\n",
      "Fitting vectorizer...\n",
      "21026\n",
      "Vectorizing...\n",
      "Cleaning...\n",
      "Lemmatizing...\n",
      "Vectorizing...\n",
      "Cleaning...\n",
      "Lemmatizing...\n",
      "Vectorizing...\n"
     ]
    }
   ],
   "source": [
    "w2vectorizer = Word2Vectorizer()\n",
    "\n",
    "w2v_preprocessor = Preprocessor(vectorizer=w2vectorizer) # Default vectorizer is the CountVectorizer\n",
    "\n",
    "w2v_preprocessor.transform(df['tweets'])\n",
    "train_w2v_vectorized_text = w2v_preprocessor.transform(X_w2v_train, mode = 'test')\n",
    "test_w2v_vectorized_text = w2v_preprocessor.transform(X_w2v_test, mode='test')"
   ]
  },
  {
   "cell_type": "code",
   "execution_count": 66,
   "metadata": {},
   "outputs": [
    {
     "name": "stdout",
     "output_type": "stream",
     "text": [
      "======================================================================\n",
      "LogisticRegression\n",
      "======================================================================\n",
      "              precision    recall  f1-score   support\n",
      "\n",
      "     bearish       0.67      0.05      0.09     11792\n",
      "     bullish       0.77      0.99      0.87     38013\n",
      "\n",
      "    accuracy                           0.77     49805\n",
      "   macro avg       0.72      0.52      0.48     49805\n",
      "weighted avg       0.75      0.77      0.68     49805\n",
      "\n"
     ]
    },
    {
     "data": {
      "image/png": "[encoded data removed]",
      "text/plain": [
       "<Figure size 432x288 with 2 Axes>"
      ]
     },
     "metadata": {
      "needs_background": "light"
     },
     "output_type": "display_data"
    },
    {
     "name": "stdout",
     "output_type": "stream",
     "text": [
      "======================================================================\n",
      "RandomForestClassifier\n",
      "======================================================================\n",
      "              precision    recall  f1-score   support\n",
      "\n",
      "     bearish       0.73      0.21      0.32     11792\n",
      "     bullish       0.80      0.98      0.88     38013\n",
      "\n",
      "    accuracy                           0.79     49805\n",
      "   macro avg       0.76      0.59      0.60     49805\n",
      "weighted avg       0.78      0.79      0.75     49805\n",
      "\n"
     ]
    },
    {
     "data": {
      "image/png": "[encoded data removed]",
      "text/plain": [
       "<Figure size 432x288 with 2 Axes>"
      ]
     },
     "metadata": {
      "needs_background": "light"
     },
     "output_type": "display_data"
    },
    {
     "data": {
      "text/plain": [
       "[LogisticRegression(C=2, max_iter=1000, solver='liblinear'),\n",
       " RandomForestClassifier()]"
      ]
     },
     "execution_count": 66,
     "metadata": {},
     "output_type": "execute_result"
    }
   ],
   "source": [
    "fit_train_predict_model(train_w2v_vectorized_text, y_train, test_w2v_vectorized_text, y_test)"
   ]
  }
 ],
 "metadata": {
  "kernelspec": {
   "display_name": "arm64-gpu",
   "language": "python",
   "name": "arm64-gpu"
  },
  "language_info": {
   "codemirror_mode": {
    "name": "ipython",
    "version": 3
   },
   "file_extension": ".py",
   "mimetype": "text/x-python",
   "name": "python",
   "nbconvert_exporter": "python",
   "pygments_lexer": "ipython3",
   "version": "3.10.6"
  },
  "orig_nbformat": 4
 },
 "nbformat": 4,
 "nbformat_minor": 2
}
