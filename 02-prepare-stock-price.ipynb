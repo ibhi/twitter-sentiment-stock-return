{
 "cells": [
  {
   "cell_type": "code",
   "execution_count": 1,
   "metadata": {},
   "outputs": [],
   "source": [
    "import numpy as np\n",
    "import pandas as pd\n",
    "import glob\n",
    "import os\n",
    "from tqdm.notebook import tqdm\n",
    "tqdm.pandas()"
   ]
  },
  {
   "cell_type": "code",
   "execution_count": 4,
   "metadata": {},
   "outputs": [],
   "source": [
    "stock_names = ['AAPL', 'AMT', 'AMZN', 'APRN', 'C', 'DIS', 'FB', 'GE', 'GOOGL', 'HTZ', 'LUV', 'MSFT', 'NFLX', 'SBUX', 'TSLA']\n",
    "stocks_files_path = os.getcwd() + '/dataset/Stocks/'"
   ]
  },
  {
   "cell_type": "code",
   "execution_count": 5,
   "metadata": {},
   "outputs": [],
   "source": [
    "def prepare_stocks_df(df, stock_name):\n",
    "    df['stock'] = [stock_name for i in range(len(df))]\n",
    "    return df"
   ]
  },
  {
   "cell_type": "code",
   "execution_count": 8,
   "metadata": {},
   "outputs": [
    {
     "data": {
      "application/vnd.jupyter.widget-view+json": {
       "model_id": "7e668f1bd0894139a245515b8da98a58",
       "version_major": 2,
       "version_minor": 0
      },
      "text/plain": [
       "  0%|          | 0/15 [00:00<?, ?it/s]"
      ]
     },
     "metadata": {},
     "output_type": "display_data"
    }
   ],
   "source": [
    "stocks_df_list = []\n",
    "for stock_name in tqdm(stock_names):\n",
    "    stocks_df_list.append(prepare_stocks_df(pd.read_csv(stocks_files_path + stock_name + '.csv'), stock_name))\n",
    "\n",
    "stocks_df = pd.concat(stocks_df_list, axis = 0)\n",
    "stocks_df.columns = ['_'.join(column.lower().split()) for column in stocks_df.columns]"
   ]
  },
  {
   "cell_type": "code",
   "execution_count": 9,
   "metadata": {},
   "outputs": [
    {
     "name": "stdout",
     "output_type": "stream",
     "text": [
      "(3763, 8)\n",
      "date         0\n",
      "open         0\n",
      "high         0\n",
      "low          0\n",
      "close        0\n",
      "adj_close    0\n",
      "volume       0\n",
      "stock        0\n",
      "dtype: int64\n"
     ]
    },
    {
     "data": {
      "text/html": [
       "<div>\n",
       "<style scoped>\n",
       "    .dataframe tbody tr th:only-of-type {\n",
       "        vertical-align: middle;\n",
       "    }\n",
       "\n",
       "    .dataframe tbody tr th {\n",
       "        vertical-align: top;\n",
       "    }\n",
       "\n",
       "    .dataframe thead th {\n",
       "        text-align: right;\n",
       "    }\n",
       "</style>\n",
       "<table border=\"1\" class=\"dataframe\">\n",
       "  <thead>\n",
       "    <tr style=\"text-align: right;\">\n",
       "      <th></th>\n",
       "      <th>date</th>\n",
       "      <th>open</th>\n",
       "      <th>high</th>\n",
       "      <th>low</th>\n",
       "      <th>close</th>\n",
       "      <th>adj_close</th>\n",
       "      <th>volume</th>\n",
       "      <th>stock</th>\n",
       "    </tr>\n",
       "  </thead>\n",
       "  <tbody>\n",
       "    <tr>\n",
       "      <th>0</th>\n",
       "      <td>2019-07-15</td>\n",
       "      <td>204.089996</td>\n",
       "      <td>205.869995</td>\n",
       "      <td>204.000000</td>\n",
       "      <td>205.210007</td>\n",
       "      <td>202.789810</td>\n",
       "      <td>16947400</td>\n",
       "      <td>AAPL</td>\n",
       "    </tr>\n",
       "    <tr>\n",
       "      <th>1</th>\n",
       "      <td>2019-07-16</td>\n",
       "      <td>204.589996</td>\n",
       "      <td>206.110001</td>\n",
       "      <td>203.500000</td>\n",
       "      <td>204.500000</td>\n",
       "      <td>202.088181</td>\n",
       "      <td>16866800</td>\n",
       "      <td>AAPL</td>\n",
       "    </tr>\n",
       "    <tr>\n",
       "      <th>2</th>\n",
       "      <td>2019-07-17</td>\n",
       "      <td>204.050003</td>\n",
       "      <td>205.089996</td>\n",
       "      <td>203.270004</td>\n",
       "      <td>203.350006</td>\n",
       "      <td>200.951736</td>\n",
       "      <td>14107500</td>\n",
       "      <td>AAPL</td>\n",
       "    </tr>\n",
       "    <tr>\n",
       "      <th>3</th>\n",
       "      <td>2019-07-18</td>\n",
       "      <td>204.000000</td>\n",
       "      <td>205.880005</td>\n",
       "      <td>203.699997</td>\n",
       "      <td>205.660004</td>\n",
       "      <td>203.234497</td>\n",
       "      <td>18582200</td>\n",
       "      <td>AAPL</td>\n",
       "    </tr>\n",
       "    <tr>\n",
       "      <th>4</th>\n",
       "      <td>2019-07-19</td>\n",
       "      <td>205.789993</td>\n",
       "      <td>206.500000</td>\n",
       "      <td>202.360001</td>\n",
       "      <td>202.589996</td>\n",
       "      <td>200.200699</td>\n",
       "      <td>20929300</td>\n",
       "      <td>AAPL</td>\n",
       "    </tr>\n",
       "    <tr>\n",
       "      <th>5</th>\n",
       "      <td>2019-07-22</td>\n",
       "      <td>203.649994</td>\n",
       "      <td>207.229996</td>\n",
       "      <td>203.610001</td>\n",
       "      <td>207.220001</td>\n",
       "      <td>204.776108</td>\n",
       "      <td>22277900</td>\n",
       "      <td>AAPL</td>\n",
       "    </tr>\n",
       "    <tr>\n",
       "      <th>6</th>\n",
       "      <td>2019-07-23</td>\n",
       "      <td>208.460007</td>\n",
       "      <td>208.910004</td>\n",
       "      <td>207.289993</td>\n",
       "      <td>208.839996</td>\n",
       "      <td>206.376984</td>\n",
       "      <td>18355200</td>\n",
       "      <td>AAPL</td>\n",
       "    </tr>\n",
       "    <tr>\n",
       "      <th>7</th>\n",
       "      <td>2019-07-24</td>\n",
       "      <td>207.669998</td>\n",
       "      <td>209.149994</td>\n",
       "      <td>207.169998</td>\n",
       "      <td>208.669998</td>\n",
       "      <td>206.209015</td>\n",
       "      <td>14991600</td>\n",
       "      <td>AAPL</td>\n",
       "    </tr>\n",
       "    <tr>\n",
       "      <th>8</th>\n",
       "      <td>2019-07-25</td>\n",
       "      <td>208.889999</td>\n",
       "      <td>209.240005</td>\n",
       "      <td>206.729996</td>\n",
       "      <td>207.020004</td>\n",
       "      <td>204.578476</td>\n",
       "      <td>13909600</td>\n",
       "      <td>AAPL</td>\n",
       "    </tr>\n",
       "    <tr>\n",
       "      <th>9</th>\n",
       "      <td>2019-07-26</td>\n",
       "      <td>207.479996</td>\n",
       "      <td>209.729996</td>\n",
       "      <td>207.139999</td>\n",
       "      <td>207.740005</td>\n",
       "      <td>205.289978</td>\n",
       "      <td>17618900</td>\n",
       "      <td>AAPL</td>\n",
       "    </tr>\n",
       "  </tbody>\n",
       "</table>\n",
       "</div>"
      ],
      "text/plain": [
       "         date        open        high         low       close   adj_close  \\\n",
       "0  2019-07-15  204.089996  205.869995  204.000000  205.210007  202.789810   \n",
       "1  2019-07-16  204.589996  206.110001  203.500000  204.500000  202.088181   \n",
       "2  2019-07-17  204.050003  205.089996  203.270004  203.350006  200.951736   \n",
       "3  2019-07-18  204.000000  205.880005  203.699997  205.660004  203.234497   \n",
       "4  2019-07-19  205.789993  206.500000  202.360001  202.589996  200.200699   \n",
       "5  2019-07-22  203.649994  207.229996  203.610001  207.220001  204.776108   \n",
       "6  2019-07-23  208.460007  208.910004  207.289993  208.839996  206.376984   \n",
       "7  2019-07-24  207.669998  209.149994  207.169998  208.669998  206.209015   \n",
       "8  2019-07-25  208.889999  209.240005  206.729996  207.020004  204.578476   \n",
       "9  2019-07-26  207.479996  209.729996  207.139999  207.740005  205.289978   \n",
       "\n",
       "     volume stock  \n",
       "0  16947400  AAPL  \n",
       "1  16866800  AAPL  \n",
       "2  14107500  AAPL  \n",
       "3  18582200  AAPL  \n",
       "4  20929300  AAPL  \n",
       "5  22277900  AAPL  \n",
       "6  18355200  AAPL  \n",
       "7  14991600  AAPL  \n",
       "8  13909600  AAPL  \n",
       "9  17618900  AAPL  "
      ]
     },
     "metadata": {},
     "output_type": "display_data"
    }
   ],
   "source": [
    "print(stocks_df.shape)\n",
    "print(stocks_df.isna().sum())\n",
    "display(stocks_df.head(10))"
   ]
  },
  {
   "cell_type": "code",
   "execution_count": 11,
   "metadata": {},
   "outputs": [
    {
     "data": {
      "text/plain": [
       "date         datetime64[ns]\n",
       "open                float64\n",
       "high                float64\n",
       "low                 float64\n",
       "close               float64\n",
       "adj_close           float64\n",
       "volume                int64\n",
       "stock                object\n",
       "dtype: object"
      ]
     },
     "execution_count": 11,
     "metadata": {},
     "output_type": "execute_result"
    }
   ],
   "source": [
    "stocks_df['date'] = pd.to_datetime(stocks_df['date'])\n",
    "stocks_df.dtypes"
   ]
  },
  {
   "cell_type": "code",
   "execution_count": null,
   "metadata": {},
   "outputs": [],
   "source": [
    "stocks_df.to_csv('./dataset/Stocks/stocks.csv', index = False)"
   ]
  }
 ],
 "metadata": {
  "kernelspec": {
   "display_name": "arm64-gpu",
   "language": "python",
   "name": "arm64-gpu"
  },
  "language_info": {
   "codemirror_mode": {
    "name": "ipython",
    "version": 3
   },
   "file_extension": ".py",
   "mimetype": "text/x-python",
   "name": "python",
   "nbconvert_exporter": "python",
   "pygments_lexer": "ipython3",
   "version": "3.10.6"
  },
  "orig_nbformat": 4
 },
 "nbformat": 4,
 "nbformat_minor": 2
}
