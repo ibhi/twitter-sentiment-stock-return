{
 "cells": [
  {
   "cell_type": "code",
   "execution_count": 60,
   "metadata": {},
   "outputs": [],
   "source": [
    "import numpy as np\n",
    "import pandas as pd\n",
    "import os"
   ]
  },
  {
   "cell_type": "markdown",
   "metadata": {},
   "source": [
    "## Load the data"
   ]
  },
  {
   "cell_type": "code",
   "execution_count": 61,
   "metadata": {},
   "outputs": [],
   "source": [
    "train_df = pd.read_csv(os.getcwd() + '/projects/poc/datascience/nlu/twitter_sentiment_analysis/dataset/twitter_training.csv', header=None)\n",
    "test_df = pd.read_csv(os.getcwd() + '/projects/poc/datascience/nlu/twitter_sentiment_analysis/dataset/twitter_validation.csv', header=None)\n"
   ]
  },
  {
   "cell_type": "code",
   "execution_count": 62,
   "metadata": {},
   "outputs": [
    {
     "name": "stdout",
     "output_type": "stream",
     "text": [
      "(74682, 4)\n",
      "(1000, 4)\n"
     ]
    }
   ],
   "source": [
    "print(train_df.shape)\n",
    "print(test_df.shape)"
   ]
  },
  {
   "cell_type": "code",
   "execution_count": 63,
   "metadata": {},
   "outputs": [
    {
     "data": {
      "text/html": [
       "<div>\n",
       "<style scoped>\n",
       "    .dataframe tbody tr th:only-of-type {\n",
       "        vertical-align: middle;\n",
       "    }\n",
       "\n",
       "    .dataframe tbody tr th {\n",
       "        vertical-align: top;\n",
       "    }\n",
       "\n",
       "    .dataframe thead th {\n",
       "        text-align: right;\n",
       "    }\n",
       "</style>\n",
       "<table border=\"1\" class=\"dataframe\">\n",
       "  <thead>\n",
       "    <tr style=\"text-align: right;\">\n",
       "      <th></th>\n",
       "      <th>0</th>\n",
       "      <th>1</th>\n",
       "      <th>2</th>\n",
       "      <th>3</th>\n",
       "    </tr>\n",
       "  </thead>\n",
       "  <tbody>\n",
       "    <tr>\n",
       "      <th>0</th>\n",
       "      <td>2401</td>\n",
       "      <td>Borderlands</td>\n",
       "      <td>Positive</td>\n",
       "      <td>im getting on borderlands and i will murder yo...</td>\n",
       "    </tr>\n",
       "    <tr>\n",
       "      <th>1</th>\n",
       "      <td>2401</td>\n",
       "      <td>Borderlands</td>\n",
       "      <td>Positive</td>\n",
       "      <td>I am coming to the borders and I will kill you...</td>\n",
       "    </tr>\n",
       "    <tr>\n",
       "      <th>2</th>\n",
       "      <td>2401</td>\n",
       "      <td>Borderlands</td>\n",
       "      <td>Positive</td>\n",
       "      <td>im getting on borderlands and i will kill you ...</td>\n",
       "    </tr>\n",
       "    <tr>\n",
       "      <th>3</th>\n",
       "      <td>2401</td>\n",
       "      <td>Borderlands</td>\n",
       "      <td>Positive</td>\n",
       "      <td>im coming on borderlands and i will murder you...</td>\n",
       "    </tr>\n",
       "    <tr>\n",
       "      <th>4</th>\n",
       "      <td>2401</td>\n",
       "      <td>Borderlands</td>\n",
       "      <td>Positive</td>\n",
       "      <td>im getting on borderlands 2 and i will murder ...</td>\n",
       "    </tr>\n",
       "  </tbody>\n",
       "</table>\n",
       "</div>"
      ],
      "text/plain": [
       "      0            1         2  \\\n",
       "0  2401  Borderlands  Positive   \n",
       "1  2401  Borderlands  Positive   \n",
       "2  2401  Borderlands  Positive   \n",
       "3  2401  Borderlands  Positive   \n",
       "4  2401  Borderlands  Positive   \n",
       "\n",
       "                                                   3  \n",
       "0  im getting on borderlands and i will murder yo...  \n",
       "1  I am coming to the borders and I will kill you...  \n",
       "2  im getting on borderlands and i will kill you ...  \n",
       "3  im coming on borderlands and i will murder you...  \n",
       "4  im getting on borderlands 2 and i will murder ...  "
      ]
     },
     "metadata": {},
     "output_type": "display_data"
    },
    {
     "data": {
      "text/html": [
       "<div>\n",
       "<style scoped>\n",
       "    .dataframe tbody tr th:only-of-type {\n",
       "        vertical-align: middle;\n",
       "    }\n",
       "\n",
       "    .dataframe tbody tr th {\n",
       "        vertical-align: top;\n",
       "    }\n",
       "\n",
       "    .dataframe thead th {\n",
       "        text-align: right;\n",
       "    }\n",
       "</style>\n",
       "<table border=\"1\" class=\"dataframe\">\n",
       "  <thead>\n",
       "    <tr style=\"text-align: right;\">\n",
       "      <th></th>\n",
       "      <th>0</th>\n",
       "      <th>1</th>\n",
       "      <th>2</th>\n",
       "      <th>3</th>\n",
       "    </tr>\n",
       "  </thead>\n",
       "  <tbody>\n",
       "    <tr>\n",
       "      <th>0</th>\n",
       "      <td>3364</td>\n",
       "      <td>Facebook</td>\n",
       "      <td>Irrelevant</td>\n",
       "      <td>I mentioned on Facebook that I was struggling ...</td>\n",
       "    </tr>\n",
       "    <tr>\n",
       "      <th>1</th>\n",
       "      <td>352</td>\n",
       "      <td>Amazon</td>\n",
       "      <td>Neutral</td>\n",
       "      <td>BBC News - Amazon boss Jeff Bezos rejects clai...</td>\n",
       "    </tr>\n",
       "    <tr>\n",
       "      <th>2</th>\n",
       "      <td>8312</td>\n",
       "      <td>Microsoft</td>\n",
       "      <td>Negative</td>\n",
       "      <td>@Microsoft Why do I pay for WORD when it funct...</td>\n",
       "    </tr>\n",
       "    <tr>\n",
       "      <th>3</th>\n",
       "      <td>4371</td>\n",
       "      <td>CS-GO</td>\n",
       "      <td>Negative</td>\n",
       "      <td>CSGO matchmaking is so full of closet hacking,...</td>\n",
       "    </tr>\n",
       "    <tr>\n",
       "      <th>4</th>\n",
       "      <td>4433</td>\n",
       "      <td>Google</td>\n",
       "      <td>Neutral</td>\n",
       "      <td>Now the President is slapping Americans in the...</td>\n",
       "    </tr>\n",
       "  </tbody>\n",
       "</table>\n",
       "</div>"
      ],
      "text/plain": [
       "      0          1           2  \\\n",
       "0  3364   Facebook  Irrelevant   \n",
       "1   352     Amazon     Neutral   \n",
       "2  8312  Microsoft    Negative   \n",
       "3  4371      CS-GO    Negative   \n",
       "4  4433     Google     Neutral   \n",
       "\n",
       "                                                   3  \n",
       "0  I mentioned on Facebook that I was struggling ...  \n",
       "1  BBC News - Amazon boss Jeff Bezos rejects clai...  \n",
       "2  @Microsoft Why do I pay for WORD when it funct...  \n",
       "3  CSGO matchmaking is so full of closet hacking,...  \n",
       "4  Now the President is slapping Americans in the...  "
      ]
     },
     "metadata": {},
     "output_type": "display_data"
    }
   ],
   "source": [
    "display(train_df.head())\n",
    "display(test_df.head())"
   ]
  },
  {
   "cell_type": "code",
   "execution_count": 64,
   "metadata": {},
   "outputs": [],
   "source": [
    "train_df.columns = ['#', 'refers_to', 'sentiment', 'text']\n",
    "test_df.columns = train_df.columns"
   ]
  },
  {
   "cell_type": "code",
   "execution_count": 65,
   "metadata": {},
   "outputs": [
    {
     "data": {
      "text/html": [
       "<div>\n",
       "<style scoped>\n",
       "    .dataframe tbody tr th:only-of-type {\n",
       "        vertical-align: middle;\n",
       "    }\n",
       "\n",
       "    .dataframe tbody tr th {\n",
       "        vertical-align: top;\n",
       "    }\n",
       "\n",
       "    .dataframe thead th {\n",
       "        text-align: right;\n",
       "    }\n",
       "</style>\n",
       "<table border=\"1\" class=\"dataframe\">\n",
       "  <thead>\n",
       "    <tr style=\"text-align: right;\">\n",
       "      <th></th>\n",
       "      <th>#</th>\n",
       "      <th>refers_to</th>\n",
       "      <th>sentiment</th>\n",
       "      <th>text</th>\n",
       "    </tr>\n",
       "  </thead>\n",
       "  <tbody>\n",
       "    <tr>\n",
       "      <th>0</th>\n",
       "      <td>2401</td>\n",
       "      <td>Borderlands</td>\n",
       "      <td>Positive</td>\n",
       "      <td>im getting on borderlands and i will murder yo...</td>\n",
       "    </tr>\n",
       "    <tr>\n",
       "      <th>1</th>\n",
       "      <td>2401</td>\n",
       "      <td>Borderlands</td>\n",
       "      <td>Positive</td>\n",
       "      <td>I am coming to the borders and I will kill you...</td>\n",
       "    </tr>\n",
       "    <tr>\n",
       "      <th>2</th>\n",
       "      <td>2401</td>\n",
       "      <td>Borderlands</td>\n",
       "      <td>Positive</td>\n",
       "      <td>im getting on borderlands and i will kill you ...</td>\n",
       "    </tr>\n",
       "    <tr>\n",
       "      <th>3</th>\n",
       "      <td>2401</td>\n",
       "      <td>Borderlands</td>\n",
       "      <td>Positive</td>\n",
       "      <td>im coming on borderlands and i will murder you...</td>\n",
       "    </tr>\n",
       "    <tr>\n",
       "      <th>4</th>\n",
       "      <td>2401</td>\n",
       "      <td>Borderlands</td>\n",
       "      <td>Positive</td>\n",
       "      <td>im getting on borderlands 2 and i will murder ...</td>\n",
       "    </tr>\n",
       "  </tbody>\n",
       "</table>\n",
       "</div>"
      ],
      "text/plain": [
       "      #    refers_to sentiment  \\\n",
       "0  2401  Borderlands  Positive   \n",
       "1  2401  Borderlands  Positive   \n",
       "2  2401  Borderlands  Positive   \n",
       "3  2401  Borderlands  Positive   \n",
       "4  2401  Borderlands  Positive   \n",
       "\n",
       "                                                text  \n",
       "0  im getting on borderlands and i will murder yo...  \n",
       "1  I am coming to the borders and I will kill you...  \n",
       "2  im getting on borderlands and i will kill you ...  \n",
       "3  im coming on borderlands and i will murder you...  \n",
       "4  im getting on borderlands 2 and i will murder ...  "
      ]
     },
     "metadata": {},
     "output_type": "display_data"
    },
    {
     "data": {
      "text/html": [
       "<div>\n",
       "<style scoped>\n",
       "    .dataframe tbody tr th:only-of-type {\n",
       "        vertical-align: middle;\n",
       "    }\n",
       "\n",
       "    .dataframe tbody tr th {\n",
       "        vertical-align: top;\n",
       "    }\n",
       "\n",
       "    .dataframe thead th {\n",
       "        text-align: right;\n",
       "    }\n",
       "</style>\n",
       "<table border=\"1\" class=\"dataframe\">\n",
       "  <thead>\n",
       "    <tr style=\"text-align: right;\">\n",
       "      <th></th>\n",
       "      <th>#</th>\n",
       "      <th>refers_to</th>\n",
       "      <th>sentiment</th>\n",
       "      <th>text</th>\n",
       "    </tr>\n",
       "  </thead>\n",
       "  <tbody>\n",
       "    <tr>\n",
       "      <th>0</th>\n",
       "      <td>3364</td>\n",
       "      <td>Facebook</td>\n",
       "      <td>Irrelevant</td>\n",
       "      <td>I mentioned on Facebook that I was struggling ...</td>\n",
       "    </tr>\n",
       "    <tr>\n",
       "      <th>1</th>\n",
       "      <td>352</td>\n",
       "      <td>Amazon</td>\n",
       "      <td>Neutral</td>\n",
       "      <td>BBC News - Amazon boss Jeff Bezos rejects clai...</td>\n",
       "    </tr>\n",
       "    <tr>\n",
       "      <th>2</th>\n",
       "      <td>8312</td>\n",
       "      <td>Microsoft</td>\n",
       "      <td>Negative</td>\n",
       "      <td>@Microsoft Why do I pay for WORD when it funct...</td>\n",
       "    </tr>\n",
       "    <tr>\n",
       "      <th>3</th>\n",
       "      <td>4371</td>\n",
       "      <td>CS-GO</td>\n",
       "      <td>Negative</td>\n",
       "      <td>CSGO matchmaking is so full of closet hacking,...</td>\n",
       "    </tr>\n",
       "    <tr>\n",
       "      <th>4</th>\n",
       "      <td>4433</td>\n",
       "      <td>Google</td>\n",
       "      <td>Neutral</td>\n",
       "      <td>Now the President is slapping Americans in the...</td>\n",
       "    </tr>\n",
       "  </tbody>\n",
       "</table>\n",
       "</div>"
      ],
      "text/plain": [
       "      #  refers_to   sentiment  \\\n",
       "0  3364   Facebook  Irrelevant   \n",
       "1   352     Amazon     Neutral   \n",
       "2  8312  Microsoft    Negative   \n",
       "3  4371      CS-GO    Negative   \n",
       "4  4433     Google     Neutral   \n",
       "\n",
       "                                                text  \n",
       "0  I mentioned on Facebook that I was struggling ...  \n",
       "1  BBC News - Amazon boss Jeff Bezos rejects clai...  \n",
       "2  @Microsoft Why do I pay for WORD when it funct...  \n",
       "3  CSGO matchmaking is so full of closet hacking,...  \n",
       "4  Now the President is slapping Americans in the...  "
      ]
     },
     "metadata": {},
     "output_type": "display_data"
    }
   ],
   "source": [
    "display(train_df.head())\n",
    "display(test_df.head())"
   ]
  },
  {
   "cell_type": "markdown",
   "metadata": {},
   "source": [
    "## Exploratory Data Analysis"
   ]
  },
  {
   "cell_type": "code",
   "execution_count": 66,
   "metadata": {},
   "outputs": [],
   "source": [
    "import matplotlib.pyplot as plt\n",
    "import seaborn as sns"
   ]
  },
  {
   "cell_type": "code",
   "execution_count": 67,
   "metadata": {},
   "outputs": [
    {
     "name": "stdout",
     "output_type": "stream",
     "text": [
      "<class 'pandas.core.frame.DataFrame'>\n",
      "RangeIndex: 74682 entries, 0 to 74681\n",
      "Data columns (total 4 columns):\n",
      " #   Column     Non-Null Count  Dtype \n",
      "---  ------     --------------  ----- \n",
      " 0   #          74682 non-null  int64 \n",
      " 1   refers_to  74682 non-null  object\n",
      " 2   sentiment  74682 non-null  object\n",
      " 3   text       73996 non-null  object\n",
      "dtypes: int64(1), object(3)\n",
      "memory usage: 2.3+ MB\n"
     ]
    }
   ],
   "source": [
    "train_df.info()"
   ]
  },
  {
   "cell_type": "markdown",
   "metadata": {},
   "source": [
    "### Null check"
   ]
  },
  {
   "cell_type": "code",
   "execution_count": 68,
   "metadata": {},
   "outputs": [
    {
     "data": {
      "text/plain": [
       "#              0\n",
       "refers_to      0\n",
       "sentiment      0\n",
       "text         686\n",
       "dtype: int64"
      ]
     },
     "execution_count": 68,
     "metadata": {},
     "output_type": "execute_result"
    }
   ],
   "source": [
    "train_df.isna().sum()"
   ]
  },
  {
   "cell_type": "code",
   "execution_count": 69,
   "metadata": {},
   "outputs": [
    {
     "data": {
      "text/plain": [
       "#            0\n",
       "refers_to    0\n",
       "sentiment    0\n",
       "text         0\n",
       "dtype: int64"
      ]
     },
     "execution_count": 69,
     "metadata": {},
     "output_type": "execute_result"
    }
   ],
   "source": [
    "test_df.isna().sum()"
   ]
  },
  {
   "cell_type": "markdown",
   "metadata": {},
   "source": [
    "- There are 686 tweets / rows without text content in the training dataset. So lets drop all of those rows, as rows without texts are of no use to sentiment analysis\n",
    "- Test dataset has no null values"
   ]
  },
  {
   "cell_type": "code",
   "execution_count": 70,
   "metadata": {},
   "outputs": [
    {
     "data": {
      "text/plain": [
       "(73996, 4)"
      ]
     },
     "execution_count": 70,
     "metadata": {},
     "output_type": "execute_result"
    }
   ],
   "source": [
    "train_df = train_df.dropna()\n",
    "train_df.shape"
   ]
  },
  {
   "cell_type": "markdown",
   "metadata": {},
   "source": [
    "### Text statistics"
   ]
  },
  {
   "cell_type": "code",
   "execution_count": 71,
   "metadata": {},
   "outputs": [
    {
     "data": {
      "text/plain": [
       "array(['Borderlands', 'CallOfDutyBlackopsColdWar', 'Amazon', 'Overwatch',\n",
       "       'Xbox(Xseries)', 'NBA2K', 'Dota2', 'PlayStation5(PS5)',\n",
       "       'WorldOfCraft', 'CS-GO', 'Google', 'AssassinsCreed', 'ApexLegends',\n",
       "       'LeagueOfLegends', 'Fortnite', 'Microsoft', 'Hearthstone',\n",
       "       'Battlefield', 'PlayerUnknownsBattlegrounds(PUBG)', 'Verizon',\n",
       "       'HomeDepot', 'FIFA', 'RedDeadRedemption(RDR)', 'CallOfDuty',\n",
       "       'TomClancysRainbowSix', 'Facebook', 'GrandTheftAuto(GTA)',\n",
       "       'MaddenNFL', 'johnson&johnson', 'Cyberpunk2077',\n",
       "       'TomClancysGhostRecon', 'Nvidia'], dtype=object)"
      ]
     },
     "execution_count": 71,
     "metadata": {},
     "output_type": "execute_result"
    }
   ],
   "source": [
    "train_df['refers_to'].unique()"
   ]
  },
  {
   "cell_type": "markdown",
   "metadata": {},
   "source": [
    "#### Length distribuition of tweets"
   ]
  },
  {
   "cell_type": "code",
   "execution_count": 72,
   "metadata": {},
   "outputs": [
    {
     "name": "stdout",
     "output_type": "stream",
     "text": [
      "Mean length of tweets: 19.226620357857183\n"
     ]
    },
    {
     "data": {
      "text/html": [
       "<div>\n",
       "<style scoped>\n",
       "    .dataframe tbody tr th:only-of-type {\n",
       "        vertical-align: middle;\n",
       "    }\n",
       "\n",
       "    .dataframe tbody tr th {\n",
       "        vertical-align: top;\n",
       "    }\n",
       "\n",
       "    .dataframe thead th {\n",
       "        text-align: right;\n",
       "    }\n",
       "</style>\n",
       "<table border=\"1\" class=\"dataframe\">\n",
       "  <thead>\n",
       "    <tr style=\"text-align: right;\">\n",
       "      <th></th>\n",
       "      <th>#</th>\n",
       "      <th>refers_to</th>\n",
       "      <th>sentiment</th>\n",
       "      <th>text</th>\n",
       "      <th>length</th>\n",
       "    </tr>\n",
       "  </thead>\n",
       "  <tbody>\n",
       "    <tr>\n",
       "      <th>60793</th>\n",
       "      <td>4817</td>\n",
       "      <td>GrandTheftAuto(GTA)</td>\n",
       "      <td>Positive</td>\n",
       "      <td>GTA V was so much fun. Def in the beginning wa...</td>\n",
       "      <td>54</td>\n",
       "    </tr>\n",
       "    <tr>\n",
       "      <th>45102</th>\n",
       "      <td>11745</td>\n",
       "      <td>Verizon</td>\n",
       "      <td>Positive</td>\n",
       "      <td>@comcastcares your company is seriously the wo...</td>\n",
       "      <td>27</td>\n",
       "    </tr>\n",
       "    <tr>\n",
       "      <th>18420</th>\n",
       "      <td>9957</td>\n",
       "      <td>PlayStation5(PS5)</td>\n",
       "      <td>Positive</td>\n",
       "      <td>let’s gooooo 🤩</td>\n",
       "      <td>3</td>\n",
       "    </tr>\n",
       "    <tr>\n",
       "      <th>73063</th>\n",
       "      <td>8917</td>\n",
       "      <td>Nvidia</td>\n",
       "      <td>Neutral</td>\n",
       "      <td>Delivered first GPU-enabled production code by...</td>\n",
       "      <td>17</td>\n",
       "    </tr>\n",
       "    <tr>\n",
       "      <th>60379</th>\n",
       "      <td>3546</td>\n",
       "      <td>Facebook</td>\n",
       "      <td>Irrelevant</td>\n",
       "      <td>Will be there... you know how we all love this...</td>\n",
       "      <td>15</td>\n",
       "    </tr>\n",
       "  </tbody>\n",
       "</table>\n",
       "</div>"
      ],
      "text/plain": [
       "           #            refers_to   sentiment  \\\n",
       "60793   4817  GrandTheftAuto(GTA)    Positive   \n",
       "45102  11745              Verizon    Positive   \n",
       "18420   9957    PlayStation5(PS5)    Positive   \n",
       "73063   8917               Nvidia     Neutral   \n",
       "60379   3546             Facebook  Irrelevant   \n",
       "\n",
       "                                                    text  length  \n",
       "60793  GTA V was so much fun. Def in the beginning wa...      54  \n",
       "45102  @comcastcares your company is seriously the wo...      27  \n",
       "18420                                     let’s gooooo 🤩       3  \n",
       "73063  Delivered first GPU-enabled production code by...      17  \n",
       "60379  Will be there... you know how we all love this...      15  "
      ]
     },
     "execution_count": 72,
     "metadata": {},
     "output_type": "execute_result"
    }
   ],
   "source": [
    "train_df['length'] = train_df['text'].apply(lambda text: len(text.split()))\n",
    "tweet_length_mean = np.mean(train_df['length'])\n",
    "print('Mean length of tweets: ' + str(tweet_length_mean))\n",
    "train_df.sample(5)"
   ]
  },
  {
   "cell_type": "code",
   "execution_count": 73,
   "metadata": {},
   "outputs": [
    {
     "data": {
      "image/png": "[encoded data removed]",
      "text/plain": [
       "<Figure size 1080x576 with 2 Axes>"
      ]
     },
     "metadata": {
      "needs_background": "light"
     },
     "output_type": "display_data"
    }
   ],
   "source": [
    "fig, axes = plt.subplots(2, 1, figsize=(15, 8))\n",
    "axes[0].set_title('Distribution of number of tokens in tweets')\n",
    "sns.boxplot(x = train_df['length'], ax=axes[0])\n",
    "sns.histplot(x = train_df['length'], bins=100, kde=True, ax=axes[1])\n",
    "axes[1].vlines(tweet_length_mean, 0, 5000, color = 'r')\n",
    "plt.annotate(\"mean\", xy=(tweet_length_mean, 5000), xytext=(tweet_length_mean-2, 5050),\n",
    "            color='r')\n",
    "plt.show()"
   ]
  },
  {
   "cell_type": "markdown",
   "metadata": {},
   "source": [
    "- As you can see above, most of the tweets are only within 125 words in length. However there are some tweets which are lengthier than 125. So lets explore what those lengthy tweets contains"
   ]
  },
  {
   "cell_type": "code",
   "execution_count": 74,
   "metadata": {},
   "outputs": [
    {
     "name": "stdout",
     "output_type": "stream",
     "text": [
      "(11, 5)\n"
     ]
    },
    {
     "data": {
      "text/html": [
       "<div>\n",
       "<style scoped>\n",
       "    .dataframe tbody tr th:only-of-type {\n",
       "        vertical-align: middle;\n",
       "    }\n",
       "\n",
       "    .dataframe tbody tr th {\n",
       "        vertical-align: top;\n",
       "    }\n",
       "\n",
       "    .dataframe thead th {\n",
       "        text-align: right;\n",
       "    }\n",
       "</style>\n",
       "<table border=\"1\" class=\"dataframe\">\n",
       "  <thead>\n",
       "    <tr style=\"text-align: right;\">\n",
       "      <th></th>\n",
       "      <th>#</th>\n",
       "      <th>refers_to</th>\n",
       "      <th>sentiment</th>\n",
       "      <th>text</th>\n",
       "      <th>length</th>\n",
       "    </tr>\n",
       "  </thead>\n",
       "  <tbody>\n",
       "    <tr>\n",
       "      <th>1826</th>\n",
       "      <td>2720</td>\n",
       "      <td>Borderlands</td>\n",
       "      <td>Neutral</td>\n",
       "      <td>_ _ _ _ _ _ _ _ _ _ _ _ _ _ _ _ _ _ _ _ _ _ _ ...</td>\n",
       "      <td>198</td>\n",
       "    </tr>\n",
       "    <tr>\n",
       "      <th>8546</th>\n",
       "      <td>9466</td>\n",
       "      <td>Overwatch</td>\n",
       "      <td>Positive</td>\n",
       "      <td>I REALLY HAVE THE OVERWATCH RN GAME. SEA SEA S...</td>\n",
       "      <td>166</td>\n",
       "    </tr>\n",
       "    <tr>\n",
       "      <th>10454</th>\n",
       "      <td>12999</td>\n",
       "      <td>Xbox(Xseries)</td>\n",
       "      <td>Positive</td>\n",
       "      <td>_ _ _ _ _ _ _ _ _ _ _ _ _ _ _ _ _ _ _ _ _ _ _ ...</td>\n",
       "      <td>198</td>\n",
       "    </tr>\n",
       "    <tr>\n",
       "      <th>32186</th>\n",
       "      <td>7523</td>\n",
       "      <td>LeagueOfLegends</td>\n",
       "      <td>Neutral</td>\n",
       "      <td>= = = = = = = = = = = = = = = = = = = = = = = ...</td>\n",
       "      <td>198</td>\n",
       "    </tr>\n",
       "    <tr>\n",
       "      <th>43712</th>\n",
       "      <td>10304</td>\n",
       "      <td>PlayerUnknownsBattlegrounds(PUBG)</td>\n",
       "      <td>Negative</td>\n",
       "      <td># # # # # # # # # # # # # # # # # # # # # # # ...</td>\n",
       "      <td>198</td>\n",
       "    </tr>\n",
       "  </tbody>\n",
       "</table>\n",
       "</div>"
      ],
      "text/plain": [
       "           #                          refers_to sentiment  \\\n",
       "1826    2720                        Borderlands   Neutral   \n",
       "8546    9466                          Overwatch  Positive   \n",
       "10454  12999                      Xbox(Xseries)  Positive   \n",
       "32186   7523                    LeagueOfLegends   Neutral   \n",
       "43712  10304  PlayerUnknownsBattlegrounds(PUBG)  Negative   \n",
       "\n",
       "                                                    text  length  \n",
       "1826   _ _ _ _ _ _ _ _ _ _ _ _ _ _ _ _ _ _ _ _ _ _ _ ...     198  \n",
       "8546   I REALLY HAVE THE OVERWATCH RN GAME. SEA SEA S...     166  \n",
       "10454  _ _ _ _ _ _ _ _ _ _ _ _ _ _ _ _ _ _ _ _ _ _ _ ...     198  \n",
       "32186  = = = = = = = = = = = = = = = = = = = = = = = ...     198  \n",
       "43712  # # # # # # # # # # # # # # # # # # # # # # # ...     198  "
      ]
     },
     "execution_count": 74,
     "metadata": {},
     "output_type": "execute_result"
    }
   ],
   "source": [
    "lengthy_tweets_df = train_df[train_df['length'] > 125]\n",
    "print(lengthy_tweets_df.shape)\n",
    "lengthy_tweets_df.head()"
   ]
  },
  {
   "cell_type": "code",
   "execution_count": 75,
   "metadata": {},
   "outputs": [
    {
     "name": "stdout",
     "output_type": "stream",
     "text": [
      "Sentiment: Neutral\n",
      "Text: _ _ _ _ _ _ _ _ _ _ _ _ _ _ _ _ _ _ _ _ _ _ _ _ _ _ _ _ _ _ _ _ _ _ _ _ _ _ _ _ _ _ _ _ _ _ _ _ _ _ _ _ _ _ _ _ _ _ _ _ _ _ _ _ _ _ _ _ _ _ _ _ _ _ _ _ _ _ _ _ _ _ _ _ _ _ _ _ _ _ _ _ _ _ _ _ _ _ _ _ _ _ _ _ _ _ _ _ _ _ _ _ _ _ _ _ _ _ _ _ _ _ _ _ _ _ _ _ _ _ _ _ _ _ _ _ _ _ _ _ _ _ _ _ _ _ _ _ _ _ _ _ _ _ _ _ _ _ _ _ _ _ _ _ _ _ _ _ _ _ _ _ _ _ _ _ _ _ _ _ _ _ _ _ _ _ _ _ _ _ _ _ _ _ _ _ _ _\n",
      "Sentiment: Positive\n",
      "Text: I REALLY HAVE THE OVERWATCH RN GAME. SEA SEA SEA SEA SEA SEA SEA SEA SEA SEA SEA SEA SEA SEA SEA SEA SEA SEA SEA SEE E E E E E E E E E E E E E E E E E E E E E E E E E E E E E E E E E E E E E E E E E E E E E E E E E E E E E E E E E E E E E E E E E E E E E E E E E E E E E E E E E E E E E E E E E E E E E E E E E E E E E E E E E E E E E E E E E E E E E E E E E E E E E E E E E E E E E E E E E E E\n",
      "Sentiment: Positive\n",
      "Text: _ _ _ _ _ _ _ _ _ _ _ _ _ _ _ _ _ _ _ _ _ _ _ _ _ _ _ _ _ _ _ _ _ _ _ _ _ _ _ _ _ _ _ _ _ _ _ _ _ _ _ _ _ _ _ _ _ _ _ _ _ _ _ _ _ _ _ _ _ _ _ _ _ _ _ _ _ _ _ _ _ _ _ _ _ _ _ _ _ _ _ _ _ _ _ _ _ _ _ _ _ _ _ _ _ _ _ _ _ _ _ _ _ _ _ _ _ _ _ _ _ _ _ _ _ _ _ _ _ _ _ _ _ _ _ _ _ _ _ _ _ _ _ _ _ _ _ _ _ _ _ _ _ _ _ _ _ _ _ _ _ _ _ _ _ _ _ _ _ _ _ _ _ _ _ _ _ _ _ _ _ _ _ _ _ _ _ _ _ _ _ _ _ _ _ _ _ _\n",
      "Sentiment: Neutral\n",
      "Text: = = = = = = = = = = = = = = = = = = = = = = = = = = = = = = = = = = = = = = = = = = = = = = = = = = = = = = = = = = = = = = = = = = = = = = = = = = = = = = = = = = = = = = = = = = = = = = = = = = = = = = = = = = = = = = = = = = = = = = = = = = = = = = = = = = = = = = = = = = = = = = = = = = = = = = = = = = = = = = = = = = = = = = = = = = = = = = = = = = = = = = = = = = = = = = = = = = = = = =\n",
      "Sentiment: Negative\n",
      "Text: # # # # # # # # # # # # # # # # # # # # # # # # # # # # # # # # # # # # # # # # # # # # # # # # # # # # # # # # # # # # # # # # # # # # # # # # # # # # # # # # # # # # # # # # # # # # # # # # # # # # # # # # # # # # # # # # # # # # # # # # # # # # # # # # # # # # # # # # # # # # # # # # # # # # # # # # # # # # # # # # # # # # # # # # # # # # # # # # # # # # # # # # # # # # # # # # # # # # # #\n",
      "Sentiment: Neutral\n",
      "Text: There was a meeting with the interns on their upcoming projects, and my background was a TV showing my ped Red Dead Reduction 2 after the pillaging of the dead body, so I'm just trying to hide it from everyone, as I am: / / / / / / / / / / / / / / / / / / / / / / / / / / / / / / / / / / / / / / / / / / / / / / / / / / / / / / / / / / / / / / / / / / / / / / / / / / / / / / / / / / / / / / / / / / / / / / / / / / / / / / / / / / / / / / / / / / / / / / / / / / / / / / / / / / / / / / / / / / / / / / / / / / /\n",
      "Sentiment: Irrelevant\n",
      "Text: (PC) Come Vibe With Me. Messing Around in GTA!!!!!!!!!!!!!!!!!!!!!!!!!!!!! _ _ _ _ _ _ _ _ _ _ _ _ _ _ _ _ _ _ _ _ _ _ _ _ _ _ _ _ _ _ _ _ _ _ _ _ _ _ _ _ _ _ _ _ _ _ _ _ _ _ _ _ _ _ _ _ _ _ _ _ _ _ _ _ _ _ _ _ _ _ _ _ _ _ _ _ _ _ _ _ _ _ _ _ _ _ _ _ _ _ _ _ _ _ _ _ _ _ _ _ _ _ _ _ _ _ _ _ _ _ _ _ _ _ _ _ _ _ _ _ _ _ _ _ _ _ _ _ _ _ _ _ _ _ _ _ _ _ _ _ _ _ _ _ _ _ _ _ _ _ _ _ _ _\n",
      "Sentiment: Neutral\n",
      "Text: @ _ _ _ _ _ _ _ _ _ _ _ _ _ _ _ _ _ _ _ _ _ _ _ _ _ _ _ _ _ _ _ _ _ _ _ _ _ _ _ _ _ _ _ _ _ _ _ _ _ _ _ _ _ _ _ _ _ _ _ _ _ _ _ _ _ _ _ _ _ _ _ _ _ _ _ _ _ _ _ _ _ _ _ _ _ _ _ _ _ _ _ _ _ _ _ _ _ _ _ _ _ _ _ _ _ _ _ _ _ _ _ _ _ _ _ _ _ _ _ _ _ _ _ _ _ _ _ _ _ _ _ _ _ _ _ _ _ _ _ _ _ _ _ _ _ _ _ _ _ _ _ _ _ _ _ _ _ _ _ _ _ _ _ _ _ _ _ _ _ _ _ _ _ _\n",
      "Sentiment: Negative\n",
      "Text: When fear is raised that \"punk-2077\" may be postponed for several years, which I hope will not happen, but here is another powerful blow to the Bollocks in 2020: / / / / / / / / / / / / / / / / / / / / / / / / / / / / / / / / / / / / / / / / / / / / / / / / / / / / / / / / / / / / / / / / / / / / / / / / / / / / / / / / / / / / / / / / / / / / / / / / / / / / / / / / / / / / / / / / / / / / / / / / / / / / / / / / / / / / / / / / / / / / / / / / / / / / / / / / / / / / / / / /\n",
      "Sentiment: Neutral\n",
      "Text: I'm a little disappointed, but my schedule approves this decision entirely. ^ _ _ _ _ _ _ _ _ _ _ _ _ _ _ _ _ _ _ _ _ _ _ _ _ _ _ _ _ _ _ _ _ _ _ _ _ _ _ _ _ _ _ _ _ _ _ _ _ _ _ _ _ _ _ _ _ _ _ _ _ _ _ _ _ _ _ _ _ _ _ _ _ _ _ _ _ _ _ _ _ _ _ _ _ _ _ _ _ _ _ _ _ _ _ _ _ _ _ _ _ _ _ _ _ _ _ _ _ _ _ _ _ _ _ _ _ _ _ _ _ _ _ _ _ _ _ _ _ _ _ _ _ _ _ _ _ _ _ _ _ _ _ _ _ _ _ _ _ _ _ _ _ _ _ _ _ _ _ _ _ _ _ _ _ _ _ _ _ _ _ _ _ _ _ _ _ _ _ _ _ _ _\n",
      "Sentiment: Neutral\n",
      "Text: The event dedicated to Victory Day in the Great Patriotic War was held as part of the celebration of the 70th anniversary of Victory in the Great Patriotic War of 1941-1945, which was attended by veterans of the Great Patriotic War, home front workers, home front workers, home front workers, home front workers, home front workers, home front workers, home front workers, home front workers, home front workers, home front workers, home front workers, home front workers, home front workers, home front workers, home front workers, home front workers, home front workers, home front workers, home front workers, home front workers, home front workers, home front workers, home front workers, home front workers, home front workers, home front workers, home front workers, home front workers, home front workers, home front workers, home front workers, home front workers, home front workers, home front workers, home front workers, home front workers, home\n"
     ]
    }
   ],
   "source": [
    "for index, row in lengthy_tweets_df.iterrows():\n",
    "    print('Sentiment: ' + row['sentiment'])\n",
    "    print('Text: ' + row['text'])"
   ]
  },
  {
   "cell_type": "markdown",
   "metadata": {},
   "source": [
    "- As you can see above, tweets over the length of 125 are mostly garbage, hence can be dropped from the dataframe"
   ]
  },
  {
   "cell_type": "code",
   "execution_count": 76,
   "metadata": {},
   "outputs": [
    {
     "data": {
      "text/plain": [
       "(73985, 5)"
      ]
     },
     "execution_count": 76,
     "metadata": {},
     "output_type": "execute_result"
    }
   ],
   "source": [
    "train_df = train_df[train_df['length'] < 125]\n",
    "train_df.shape"
   ]
  },
  {
   "cell_type": "markdown",
   "metadata": {},
   "source": [
    "- Lets repeat the same for test dataset"
   ]
  },
  {
   "cell_type": "code",
   "execution_count": 77,
   "metadata": {},
   "outputs": [
    {
     "name": "stdout",
     "output_type": "stream",
     "text": [
      "Mean length of tweets: 20.94\n"
     ]
    },
    {
     "data": {
      "text/html": [
       "<div>\n",
       "<style scoped>\n",
       "    .dataframe tbody tr th:only-of-type {\n",
       "        vertical-align: middle;\n",
       "    }\n",
       "\n",
       "    .dataframe tbody tr th {\n",
       "        vertical-align: top;\n",
       "    }\n",
       "\n",
       "    .dataframe thead th {\n",
       "        text-align: right;\n",
       "    }\n",
       "</style>\n",
       "<table border=\"1\" class=\"dataframe\">\n",
       "  <thead>\n",
       "    <tr style=\"text-align: right;\">\n",
       "      <th></th>\n",
       "      <th>#</th>\n",
       "      <th>refers_to</th>\n",
       "      <th>sentiment</th>\n",
       "      <th>text</th>\n",
       "      <th>length</th>\n",
       "    </tr>\n",
       "  </thead>\n",
       "  <tbody>\n",
       "    <tr>\n",
       "      <th>343</th>\n",
       "      <td>11622</td>\n",
       "      <td>Verizon</td>\n",
       "      <td>Negative</td>\n",
       "      <td>@verizonfios frustration! on hold for 30min, f...</td>\n",
       "      <td>39</td>\n",
       "    </tr>\n",
       "    <tr>\n",
       "      <th>738</th>\n",
       "      <td>832</td>\n",
       "      <td>AssassinsCreed</td>\n",
       "      <td>Neutral</td>\n",
       "      <td>Old screencaps from Assassin's Creed Odyssey w...</td>\n",
       "      <td>22</td>\n",
       "    </tr>\n",
       "    <tr>\n",
       "      <th>395</th>\n",
       "      <td>1448</td>\n",
       "      <td>Battlefield</td>\n",
       "      <td>Irrelevant</td>\n",
       "      <td>A ban for Battlefield 4 player ItzAwwZy has oc...</td>\n",
       "      <td>12</td>\n",
       "    </tr>\n",
       "    <tr>\n",
       "      <th>237</th>\n",
       "      <td>7012</td>\n",
       "      <td>johnson&amp;johnson</td>\n",
       "      <td>Neutral</td>\n",
       "      <td>Johnson &amp; Johnson Medical Devices Companies is...</td>\n",
       "      <td>32</td>\n",
       "    </tr>\n",
       "    <tr>\n",
       "      <th>10</th>\n",
       "      <td>3185</td>\n",
       "      <td>Dota2</td>\n",
       "      <td>Positive</td>\n",
       "      <td>The professional dota 2 scene is fucking explo...</td>\n",
       "      <td>17</td>\n",
       "    </tr>\n",
       "  </tbody>\n",
       "</table>\n",
       "</div>"
      ],
      "text/plain": [
       "         #        refers_to   sentiment  \\\n",
       "343  11622          Verizon    Negative   \n",
       "738    832   AssassinsCreed     Neutral   \n",
       "395   1448      Battlefield  Irrelevant   \n",
       "237   7012  johnson&johnson     Neutral   \n",
       "10    3185            Dota2    Positive   \n",
       "\n",
       "                                                  text  length  \n",
       "343  @verizonfios frustration! on hold for 30min, f...      39  \n",
       "738  Old screencaps from Assassin's Creed Odyssey w...      22  \n",
       "395  A ban for Battlefield 4 player ItzAwwZy has oc...      12  \n",
       "237  Johnson & Johnson Medical Devices Companies is...      32  \n",
       "10   The professional dota 2 scene is fucking explo...      17  "
      ]
     },
     "execution_count": 77,
     "metadata": {},
     "output_type": "execute_result"
    }
   ],
   "source": [
    "test_df['length'] = test_df['text'].apply(lambda text: len(text.split()))\n",
    "tweet_length_mean = np.mean(test_df['length'])\n",
    "print('Mean length of tweets: ' + str(tweet_length_mean))\n",
    "test_df.sample(5)"
   ]
  },
  {
   "cell_type": "code",
   "execution_count": 78,
   "metadata": {},
   "outputs": [
    {
     "data": {
      "image/png": "[encoded data removed]",
      "text/plain": [
       "<Figure size 1080x576 with 2 Axes>"
      ]
     },
     "metadata": {
      "needs_background": "light"
     },
     "output_type": "display_data"
    }
   ],
   "source": [
    "fig, axes = plt.subplots(2, 1, figsize=(15, 8))\n",
    "axes[0].set_title('Distribution of number of tokens in tweets')\n",
    "sns.boxplot(x = test_df['length'], ax=axes[0])\n",
    "sns.histplot(x = test_df['length'], bins=100, kde=True, ax=axes[1])\n",
    "axes[1].vlines(tweet_length_mean, 0, 5000, color = 'r')\n",
    "plt.annotate(\"mean\", xy=(tweet_length_mean, 5000), xytext=(tweet_length_mean-2, 5050),\n",
    "            color='r')\n",
    "plt.show()"
   ]
  },
  {
   "cell_type": "markdown",
   "metadata": {},
   "source": [
    "- As you can see, there are no outliers in the test dataset :)"
   ]
  },
  {
   "cell_type": "markdown",
   "metadata": {},
   "source": [
    "### Target analysis"
   ]
  },
  {
   "cell_type": "code",
   "execution_count": 79,
   "metadata": {},
   "outputs": [
    {
     "data": {
      "image/png": "[encoded data removed]",
      "text/plain": [
       "<Figure size 432x288 with 1 Axes>"
      ]
     },
     "metadata": {
      "needs_background": "light"
     },
     "output_type": "display_data"
    }
   ],
   "source": [
    "train_df['sentiment'].value_counts().plot(kind = 'bar')\n",
    "plt.show()"
   ]
  },
  {
   "cell_type": "code",
   "execution_count": 80,
   "metadata": {},
   "outputs": [
    {
     "name": "stdout",
     "output_type": "stream",
     "text": [
      "30.21693527698517\n",
      "27.915117144584656\n",
      "24.467121064662933\n",
      "17.400825023651123\n"
     ]
    },
    {
     "data": {
      "image/png": "[encoded data removed]",
      "text/plain": [
       "<Figure size 432x288 with 1 Axes>"
      ]
     },
     "metadata": {},
     "output_type": "display_data"
    }
   ],
   "source": [
    "def my_fmt(x):\n",
    "    print(x)\n",
    "    return '{:.2f}%'.format(x)\n",
    "\n",
    "value_counts = train_df['sentiment'].value_counts()\n",
    "\n",
    "plt.pie(value_counts, autopct=my_fmt)\n",
    "plt.title('Distribuition of sentiment')\n",
    "plt.show()"
   ]
  },
  {
   "cell_type": "markdown",
   "metadata": {},
   "source": [
    "- As you can see, the dataset contains (approximately) balanced representation of `Positive`, `Negative` and `Neutral` sentiments\n",
    "- `Irrelavant` sentiment is comparatively lesser, however that is something not interesting for us"
   ]
  },
  {
   "cell_type": "markdown",
   "metadata": {},
   "source": [
    "#### Distribution of length of tweet vs sentiment"
   ]
  },
  {
   "cell_type": "code",
   "execution_count": 81,
   "metadata": {},
   "outputs": [
    {
     "data": {
      "image/png": "[encoded data removed]",
      "text/plain": [
       "<Figure size 1440x504 with 1 Axes>"
      ]
     },
     "metadata": {
      "needs_background": "light"
     },
     "output_type": "display_data"
    }
   ],
   "source": [
    "plt.figure(figsize=(20, 7))\n",
    "sns.kdeplot(data=train_df, x='length', hue='sentiment')\n",
    "plt.title('Distribution of length of tweet vs sentiment')\n",
    "plt.show()"
   ]
  },
  {
   "cell_type": "markdown",
   "metadata": {},
   "source": [
    "- Distributions of tweets length do not differ from each other. We can ensure using ANOVA test as we have equal dispesion and normal-like distribution.\n"
   ]
  },
  {
   "cell_type": "code",
   "execution_count": 82,
   "metadata": {},
   "outputs": [
    {
     "data": {
      "text/html": [
       "<div>\n",
       "<style scoped>\n",
       "    .dataframe tbody tr th:only-of-type {\n",
       "        vertical-align: middle;\n",
       "    }\n",
       "\n",
       "    .dataframe tbody tr th {\n",
       "        vertical-align: top;\n",
       "    }\n",
       "\n",
       "    .dataframe thead th {\n",
       "        text-align: right;\n",
       "    }\n",
       "</style>\n",
       "<table border=\"1\" class=\"dataframe\">\n",
       "  <thead>\n",
       "    <tr style=\"text-align: right;\">\n",
       "      <th></th>\n",
       "      <th>sum_sq</th>\n",
       "      <th>df</th>\n",
       "      <th>F</th>\n",
       "      <th>PR(&gt;F)</th>\n",
       "    </tr>\n",
       "  </thead>\n",
       "  <tbody>\n",
       "    <tr>\n",
       "      <th>sentiment</th>\n",
       "      <td>1.203538e+05</td>\n",
       "      <td>3.0</td>\n",
       "      <td>197.678394</td>\n",
       "      <td>1.059066e-127</td>\n",
       "    </tr>\n",
       "    <tr>\n",
       "      <th>Residual</th>\n",
       "      <td>1.501410e+07</td>\n",
       "      <td>73981.0</td>\n",
       "      <td>NaN</td>\n",
       "      <td>NaN</td>\n",
       "    </tr>\n",
       "  </tbody>\n",
       "</table>\n",
       "</div>"
      ],
      "text/plain": [
       "                 sum_sq       df           F         PR(>F)\n",
       "sentiment  1.203538e+05      3.0  197.678394  1.059066e-127\n",
       "Residual   1.501410e+07  73981.0         NaN            NaN"
      ]
     },
     "execution_count": 82,
     "metadata": {},
     "output_type": "execute_result"
    }
   ],
   "source": [
    "import statsmodels.api as sm\n",
    "from statsmodels.formula.api import ols\n",
    "\n",
    "#perform two-way ANOVA\n",
    "model = ols('length ~ sentiment', data=train_df).fit()\n",
    "sm.stats.anova_lm(model, typ=2)"
   ]
  },
  {
   "cell_type": "markdown",
   "metadata": {},
   "source": [
    "- p-value > 0.05, fail to reject H0."
   ]
  },
  {
   "cell_type": "markdown",
   "metadata": {},
   "source": [
    "#### Emoticons analysis"
   ]
  },
  {
   "cell_type": "code",
   "execution_count": 83,
   "metadata": {},
   "outputs": [],
   "source": [
    "# !pip install -U emoji"
   ]
  },
  {
   "cell_type": "code",
   "execution_count": 84,
   "metadata": {},
   "outputs": [],
   "source": [
    "# emoticons\n",
    "import emoji\n",
    "import regex as re\n",
    "\n",
    "target_emojis = {'Positive': [],\n",
    "                'Neutral': [],\n",
    "                'Irrelevant': [],\n",
    "                'Negative': []}\n",
    "\n",
    "for _, row in train_df.iterrows():\n",
    "    if(emoji.emoji_count(row['text']) >= 1):\n",
    "        emoji_list = emoji.emoji_list(row['text'])\n",
    "        emojis = [emoji_item['emoji'] for emoji_item in emoji_list]\n",
    "        target_emojis[row['sentiment']].extend(emojis)"
   ]
  },
  {
   "cell_type": "code",
   "execution_count": 85,
   "metadata": {},
   "outputs": [
    {
     "name": "stdout",
     "output_type": "stream",
     "text": [
      "==================================================================================================== \n",
      "Top emojis for Positive \n",
      " ['🤣', '🥰', '🥺', '🤔', '🤩', '🥳', '™', '🤯', '🦁', '‼', '🤤', '🥴', '🤖', '🤷', '🤦', '🥵', '🤞', '🦊', '🤸', '🤬']\n"
     ]
    },
    {
     "data": {
      "image/png": "[encoded data removed]",
      "text/plain": [
       "<Figure size 720x360 with 1 Axes>"
      ]
     },
     "metadata": {
      "needs_background": "light"
     },
     "output_type": "display_data"
    },
    {
     "name": "stdout",
     "output_type": "stream",
     "text": [
      "==================================================================================================== \n",
      "Top emojis for Neutral \n",
      " ['🤣', '🤔', '🤦', '🥺', '™', '©', '🤩', '🥰', '‼', '🤯', '🤠', '🥳', '🤬', '5⃣', '4⃣', '3⃣', '2⃣', '6⃣', '1⃣', '🤨']\n"
     ]
    },
    {
     "data": {
      "image/png": "[encoded data removed]",
      "text/plain": [
       "<Figure size 720x360 with 1 Axes>"
      ]
     },
     "metadata": {
      "needs_background": "light"
     },
     "output_type": "display_data"
    },
    {
     "name": "stdout",
     "output_type": "stream",
     "text": [
      "==================================================================================================== \n",
      "Top emojis for Irrelevant \n",
      " ['🤣', '🥺', '🥰', '🤔', '🥳', '🤗', '🥴', '🤪', '🤦', '🧘', '🤷', '🤬', '🦋', '🤓', '🤧', '🤡', '🤢', '‼', '🤯', '🥄']\n"
     ]
    },
    {
     "data": {
      "image/png": "[encoded data removed]",
      "text/plain": [
       "<Figure size 720x360 with 1 Axes>"
      ]
     },
     "metadata": {
      "needs_background": "light"
     },
     "output_type": "display_data"
    },
    {
     "name": "stdout",
     "output_type": "stream",
     "text": [
      "==================================================================================================== \n",
      "Top emojis for Negative \n",
      " ['🤣', '🤦', '🥺', '🤬', '🥴', '🤷', '🤔', '™', '🧢', '🤡', '🤢', '🤩', '🤑', '‼', '🤪', '©', '🥰', '🤨', '🤓', '🤟']\n"
     ]
    },
    {
     "data": {
      "image/png": "[encoded data removed]",
      "text/plain": [
       "<Figure size 720x360 with 1 Axes>"
      ]
     },
     "metadata": {
      "needs_background": "light"
     },
     "output_type": "display_data"
    }
   ],
   "source": [
    "from matplotlib.font_manager import FontProperties\n",
    "\n",
    "prop = FontProperties(fname='/System/Library/Fonts/Apple Color Emoji.ttc')\n",
    "plt.rcParams['font.family'] = prop.get_family()\n",
    "\n",
    "for t, emojis in target_emojis.items():\n",
    "    plt.figure(figsize=(10, 5))\n",
    "    bar_info = pd.Series(emojis).value_counts()[:20]\n",
    "    print('=========='*10,  f'\\nTop emojis for {t} \\n', list(bar_info.index))\n",
    "    bar_info.index = [emoji.demojize(i, delimiters=(\"\", \"\")) for i in bar_info.index]\n",
    "    sns.barplot(x=bar_info.values, y=bar_info.index)\n",
    "        \n",
    "    plt.title(f'{t}')\n",
    "    plt.show()"
   ]
  },
  {
   "cell_type": "markdown",
   "metadata": {},
   "source": [
    "**TODO** Write observations from the above graph"
   ]
  },
  {
   "cell_type": "markdown",
   "metadata": {},
   "source": [
    "#### Distribuition of capital lettered words vs sentiment"
   ]
  },
  {
   "cell_type": "code",
   "execution_count": 86,
   "metadata": {},
   "outputs": [
    {
     "data": {
      "text/html": [
       "<div>\n",
       "<style scoped>\n",
       "    .dataframe tbody tr th:only-of-type {\n",
       "        vertical-align: middle;\n",
       "    }\n",
       "\n",
       "    .dataframe tbody tr th {\n",
       "        vertical-align: top;\n",
       "    }\n",
       "\n",
       "    .dataframe thead th {\n",
       "        text-align: right;\n",
       "    }\n",
       "</style>\n",
       "<table border=\"1\" class=\"dataframe\">\n",
       "  <thead>\n",
       "    <tr style=\"text-align: right;\">\n",
       "      <th></th>\n",
       "      <th>#</th>\n",
       "      <th>refers_to</th>\n",
       "      <th>sentiment</th>\n",
       "      <th>text</th>\n",
       "      <th>length</th>\n",
       "      <th>capital_word_count</th>\n",
       "    </tr>\n",
       "  </thead>\n",
       "  <tbody>\n",
       "    <tr>\n",
       "      <th>61479</th>\n",
       "      <td>4937</td>\n",
       "      <td>GrandTheftAuto(GTA)</td>\n",
       "      <td>Irrelevant</td>\n",
       "      <td>USPS fans love poster that adds 49' to banner ...</td>\n",
       "      <td>16</td>\n",
       "      <td>1.0</td>\n",
       "    </tr>\n",
       "    <tr>\n",
       "      <th>64600</th>\n",
       "      <td>7866</td>\n",
       "      <td>MaddenNFL</td>\n",
       "      <td>Negative</td>\n",
       "      <td>@EAMaddenNFL how do you guys manage to make it...</td>\n",
       "      <td>13</td>\n",
       "      <td>0.0</td>\n",
       "    </tr>\n",
       "    <tr>\n",
       "      <th>36942</th>\n",
       "      <td>8337</td>\n",
       "      <td>Microsoft</td>\n",
       "      <td>Irrelevant</td>\n",
       "      <td>Nintendo doesn't do things for other companies...</td>\n",
       "      <td>14</td>\n",
       "      <td>0.0</td>\n",
       "    </tr>\n",
       "    <tr>\n",
       "      <th>3496</th>\n",
       "      <td>1805</td>\n",
       "      <td>CallOfDutyBlackopsColdWar</td>\n",
       "      <td>Negative</td>\n",
       "      <td>Just OH MY GODDD.</td>\n",
       "      <td>4</td>\n",
       "      <td>3.0</td>\n",
       "    </tr>\n",
       "    <tr>\n",
       "      <th>56461</th>\n",
       "      <td>11289</td>\n",
       "      <td>TomClancysRainbowSix</td>\n",
       "      <td>Negative</td>\n",
       "      <td>I know people say it every day, but the toxici...</td>\n",
       "      <td>41</td>\n",
       "      <td>3.0</td>\n",
       "    </tr>\n",
       "    <tr>\n",
       "      <th>6172</th>\n",
       "      <td>262</td>\n",
       "      <td>Amazon</td>\n",
       "      <td>Positive</td>\n",
       "      <td>The Super Bowl day is the only time I can look...</td>\n",
       "      <td>35</td>\n",
       "      <td>1.0</td>\n",
       "    </tr>\n",
       "    <tr>\n",
       "      <th>15576</th>\n",
       "      <td>3066</td>\n",
       "      <td>Dota2</td>\n",
       "      <td>Irrelevant</td>\n",
       "      <td>I will take this to the bank!  Easy victory @g...</td>\n",
       "      <td>11</td>\n",
       "      <td>1.0</td>\n",
       "    </tr>\n",
       "    <tr>\n",
       "      <th>18880</th>\n",
       "      <td>12435</td>\n",
       "      <td>WorldOfCraft</td>\n",
       "      <td>Neutral</td>\n",
       "      <td>I just recently earned all the [ a Horrific Vi...</td>\n",
       "      <td>14</td>\n",
       "      <td>1.0</td>\n",
       "    </tr>\n",
       "    <tr>\n",
       "      <th>46621</th>\n",
       "      <td>12000</td>\n",
       "      <td>Verizon</td>\n",
       "      <td>Negative</td>\n",
       "      <td>@ verizonmedia @ Verizon how long will you den...</td>\n",
       "      <td>50</td>\n",
       "      <td>1.0</td>\n",
       "    </tr>\n",
       "    <tr>\n",
       "      <th>45264</th>\n",
       "      <td>11772</td>\n",
       "      <td>Verizon</td>\n",
       "      <td>Negative</td>\n",
       "      <td>Kinda missing T Mobile right now, Verizon is s...</td>\n",
       "      <td>17</td>\n",
       "      <td>1.0</td>\n",
       "    </tr>\n",
       "  </tbody>\n",
       "</table>\n",
       "</div>"
      ],
      "text/plain": [
       "           #                  refers_to   sentiment  \\\n",
       "61479   4937        GrandTheftAuto(GTA)  Irrelevant   \n",
       "64600   7866                  MaddenNFL    Negative   \n",
       "36942   8337                  Microsoft  Irrelevant   \n",
       "3496    1805  CallOfDutyBlackopsColdWar    Negative   \n",
       "56461  11289       TomClancysRainbowSix    Negative   \n",
       "6172     262                     Amazon    Positive   \n",
       "15576   3066                      Dota2  Irrelevant   \n",
       "18880  12435               WorldOfCraft     Neutral   \n",
       "46621  12000                    Verizon    Negative   \n",
       "45264  11772                    Verizon    Negative   \n",
       "\n",
       "                                                    text  length  \\\n",
       "61479  USPS fans love poster that adds 49' to banner ...      16   \n",
       "64600  @EAMaddenNFL how do you guys manage to make it...      13   \n",
       "36942  Nintendo doesn't do things for other companies...      14   \n",
       "3496                                   Just OH MY GODDD.       4   \n",
       "56461  I know people say it every day, but the toxici...      41   \n",
       "6172   The Super Bowl day is the only time I can look...      35   \n",
       "15576  I will take this to the bank!  Easy victory @g...      11   \n",
       "18880  I just recently earned all the [ a Horrific Vi...      14   \n",
       "46621  @ verizonmedia @ Verizon how long will you den...      50   \n",
       "45264  Kinda missing T Mobile right now, Verizon is s...      17   \n",
       "\n",
       "       capital_word_count  \n",
       "61479                 1.0  \n",
       "64600                 0.0  \n",
       "36942                 0.0  \n",
       "3496                  3.0  \n",
       "56461                 3.0  \n",
       "6172                  1.0  \n",
       "15576                 1.0  \n",
       "18880                 1.0  \n",
       "46621                 1.0  \n",
       "45264                 1.0  "
      ]
     },
     "execution_count": 86,
     "metadata": {},
     "output_type": "execute_result"
    }
   ],
   "source": [
    "train_df['capital_word_count'] = train_df['text'].apply(lambda text: np.sum([w.isupper() for w in text.split()]))\n",
    "\n",
    "train_df.sample(10)\n"
   ]
  },
  {
   "cell_type": "code",
   "execution_count": 87,
   "metadata": {},
   "outputs": [
    {
     "data": {
      "image/png": "[encoded data removed]",
      "text/plain": [
       "<Figure size 1080x576 with 2 Axes>"
      ]
     },
     "metadata": {
      "needs_background": "light"
     },
     "output_type": "display_data"
    }
   ],
   "source": [
    "fig, axes = plt.subplots(2, 1, figsize=(15, 8))\n",
    "axes[0].set_title('Distribution of capitalized in tweets')\n",
    "sns.boxplot(data=train_df, x='capital_word_count', y='sentiment', ax = axes[0])\n",
    "sns.kdeplot(data=train_df, x='capital_word_count', hue='sentiment', ax=axes[1])\n",
    "plt.show()"
   ]
  },
  {
   "cell_type": "markdown",
   "metadata": {},
   "source": [
    "- **TODO** refers to vs sentiment"
   ]
  },
  {
   "cell_type": "markdown",
   "metadata": {},
   "source": [
    "## Preprocessing and baseline"
   ]
  },
  {
   "cell_type": "markdown",
   "metadata": {},
   "source": [
    "- I am going to remove all non-alphanumeric characters from the text except space\n",
    "- And then will run a logistic regression as a baseline analysis"
   ]
  },
  {
   "cell_type": "code",
   "execution_count": 88,
   "metadata": {},
   "outputs": [
    {
     "name": "stderr",
     "output_type": "stream",
     "text": [
      "[nltk_data] Downloading package stopwords to\n",
      "[nltk_data]     /Users/ibrahim/nltk_data...\n",
      "[nltk_data]   Package stopwords is already up-to-date!\n"
     ]
    },
    {
     "data": {
      "text/plain": [
       "True"
      ]
     },
     "execution_count": 88,
     "metadata": {},
     "output_type": "execute_result"
    }
   ],
   "source": [
    "import nltk\n",
    "nltk.download('stopwords')"
   ]
  },
  {
   "cell_type": "code",
   "execution_count": 89,
   "metadata": {},
   "outputs": [],
   "source": [
    "# For the train data\n",
    "train_bl_df = train_df.copy()\n",
    "# For test data\n",
    "test_bl_df = test_df.copy()\n"
   ]
  },
  {
   "cell_type": "markdown",
   "metadata": {},
   "source": [
    "#### OneHotEncode refers_to feature for train and test data"
   ]
  },
  {
   "cell_type": "code",
   "execution_count": 90,
   "metadata": {},
   "outputs": [],
   "source": [
    "from sklearn.preprocessing import OneHotEncoder\n",
    "\n",
    "ohe = OneHotEncoder(drop='first')\n",
    "\n",
    "ohe.fit(train_bl_df['refers_to'].to_numpy().reshape(-1, 1))\n",
    "\n",
    "train_refers_to_encoded = ohe.transform(train_bl_df['refers_to'].to_numpy().reshape(-1, 1))\n",
    "test_refers_to_encoded = ohe.transform(test_bl_df['refers_to'].to_numpy().reshape(-1, 1))\n",
    "\n",
    "train_refers_to_df = pd.DataFrame.sparse.from_spmatrix(train_refers_to_encoded, columns=ohe.get_feature_names_out())\n",
    "test_refers_to_df = pd.DataFrame.sparse.from_spmatrix(test_refers_to_encoded, columns=ohe.get_feature_names_out())\n"
   ]
  },
  {
   "cell_type": "code",
   "execution_count": 91,
   "metadata": {},
   "outputs": [],
   "source": [
    "# !python3 -m spacy download en_core_web_md"
   ]
  },
  {
   "cell_type": "code",
   "execution_count": 92,
   "metadata": {},
   "outputs": [],
   "source": [
    "from sklearn.feature_extraction.text import CountVectorizer\n",
    "from nltk.corpus import stopwords\n",
    "from nltk.tokenize import word_tokenize\n",
    "from nltk.stem import WordNetLemmatizer\n",
    "# import spacy\n",
    "import re\n",
    "import emoji\n",
    "\n",
    "# nlp = spacy.load(\"en_core_web_md\")\n",
    "\n",
    "class Preprocessor:\n",
    "    def __init__(\n",
    "        self, \n",
    "        stopwords=stopwords.words('english'), \n",
    "        vectorizer = CountVectorizer(max_features=30000, ngram_range=(1,3))\n",
    "    ):\n",
    "        self.stopwords = stopwords\n",
    "        self.vectorizer = vectorizer\n",
    "        self.vectorizer_fitted = False\n",
    "        self.wnl = WordNetLemmatizer()\n",
    "    \n",
    "    # def remove_non_alpha_numeric(self, texts):\n",
    "    #     pattern = re.compile(r'[^a-zA-Z\\d\\s:]')\n",
    "    #     return [re.sub(pattern, '', text).strip() for text in texts]\n",
    "\n",
    "    def tokenize(self, texts):\n",
    "        return [word_tokenize(text) for text in texts]\n",
    "    \n",
    "    def remove_usernames(self, texts):\n",
    "        print('Removing usernames...')\n",
    "        pattern = re.compile('(?<=^|(?<=[^a-zA-Z0-9-_\\.]))@([A-Za-z]+[A-Za-z0-9-_]+)')\n",
    "        return [re.sub(pattern, '', text) for text in texts]\n",
    "\n",
    "    def remove_twitter_handles(self, texts):\n",
    "        print('Removing usernames...')\n",
    "        pattern = re.compile('(?<=^|(?<=[^a-zA-Z0-9-_\\.]))#([A-Za-z]+[A-Za-z0-9-_]+)')\n",
    "        return [re.sub(pattern, '', text) for text in texts]\n",
    "\n",
    "    def remove_urls(self, texts):\n",
    "        print('Removing URLs...')\n",
    "        pattern = re.compile('(\\w+\\.com ?/ ?.+)|(http\\S+)')\n",
    "        return [re.sub(pattern, '<URL>', text) for text in texts]\n",
    "    \n",
    "    def remove_extra_space(self, texts):\n",
    "        print('Removing double space...')\n",
    "        pattern = re.compile(' +')\n",
    "        return [re.sub(pattern, ' ', text) for text in texts]\n",
    "        \n",
    "    def remove_punctuation(self, texts):\n",
    "        print('Removing Punctuation...')\n",
    "        pattern = re.compile('[^a-zA-Z0-9]')\n",
    "        return [re.sub(pattern, ' ', text) for text in texts]\n",
    "    \n",
    "    # def remove_stopwords(self, texts):\n",
    "    #     print('Removing stopwords...')\n",
    "    #     return [[w for w in text.split(' ') if w not in self.stopwords] for text in texts]\n",
    "    \n",
    "    def remove_numbers(self, texts):\n",
    "        print('Removing numbers...')\n",
    "        pattern = re.compile('[0-9]')\n",
    "        return [re.sub(pattern, ' ', text) for text in texts]\n",
    "    \n",
    "    def decode_emojis(self, texts):\n",
    "        print('Decoding emojis...')\n",
    "        return [emoji.demojize(text, language='en') for text in texts] \n",
    "    \n",
    "    def lemmatize(self, texts):\n",
    "        print('Lemmatizing...')\n",
    "        tokens_list = self.tokenize(texts)\n",
    "        return [' '.join([self.wnl.lemmatize(token) for token in text]) for text in tokens_list]\n",
    "\n",
    "    def transform(self, X, y=None, mode='train'):\n",
    "        X = X.copy()\n",
    "        # print('Removing Nans...')\n",
    "        # X = X[~X.isnull()]                          # delete nans\n",
    "        # X = X[~X.duplicated()]                      # delete duplicates\n",
    "        \n",
    "        # if mode == 'train':\n",
    "        #     self.train_idx = X.index\n",
    "        # else:\n",
    "        #     self.test_idx = X.index\n",
    "        # print('Counting capitalized...')\n",
    "        # capitalized = [np.sum([t.isupper() for t in text.split()]) \n",
    "        #                    for text in np.array(X.values)]  # count capitalized\n",
    "        # X['cap'] = capitalized\n",
    "        print('Lowering...')\n",
    "        X = [text.lower() for text in X]             # lower\n",
    "        X = self.remove_usernames(X)                 # remove usernames\n",
    "        X = self.remove_twitter_handles(X)           # remove twitter handles\n",
    "        X = self.remove_urls(X)                      # remove urls\n",
    "        X = self.decode_emojis(X)                    # decode emojis\n",
    "        X = self.remove_punctuation(X)               # remove punctuation\n",
    "        X = self.remove_numbers(X)                   # remove numbers\n",
    "        X = self.remove_extra_space(X)              # remove double space\n",
    "        \n",
    "        # X = self.remove_stopwords(X)                 # remove stopwords\n",
    "        \n",
    "        # I am not lemmatizing as it is not helping in improving the accuracy and also, it takes more time to lemmatize all the words\n",
    "        X = self.lemmatize(X)                        # lemmatize\n",
    "        \n",
    "        if (mode == 'train'):\n",
    "            # self.vectorizer_fitted = True\n",
    "            print('Fitting vectorizer...')\n",
    "            self.vectorizer.fit(X)\n",
    "\n",
    "        print('Vectorizing...')\n",
    "        X = self.vectorizer.transform(X)             # vectorize\n",
    "        \n",
    "        return X"
   ]
  },
  {
   "cell_type": "code",
   "execution_count": 93,
   "metadata": {},
   "outputs": [],
   "source": [
    "from sklearn.linear_model import LogisticRegression\n",
    "from sklearn.naive_bayes import MultinomialNB\n",
    "from sklearn.linear_model import SGDClassifier\n",
    "from sklearn.tree import DecisionTreeClassifier\n",
    "from sklearn.svm import LinearSVC\n",
    "from sklearn.ensemble import RandomForestClassifier\n",
    "\n",
    "from sklearn.metrics import confusion_matrix\n",
    "from sklearn.metrics import classification_report\n",
    "\n",
    "def fit_train_predict_model(X_train, y_train, X_test, y_test):\n",
    "    models = [\n",
    "        LogisticRegression(C = 2, solver='liblinear', max_iter=1000),\n",
    "        RandomForestClassifier()\n",
    "        # DecisionTreeClassifier(),\n",
    "        # MultinomialNB(),\n",
    "        # SGDClassifier(max_iter=100),\n",
    "        # LinearSVC(C = 2, max_iter=500)\n",
    "    ]\n",
    "    for model in models:\n",
    "        model.fit(X_train, y_train)\n",
    "        y_pred_test = model.predict(X_test)\n",
    "        print('======='*10)\n",
    "        print(type(model).__name__)\n",
    "        print('======='*10)\n",
    "        print(classification_report(y_test, y_pred_test))\n",
    "        sns.heatmap(confusion_matrix(y_test, y_pred_test), annot=True)\n",
    "        plt.show()\n",
    "    \n",
    "    return models\n"
   ]
  },
  {
   "cell_type": "markdown",
   "metadata": {},
   "source": [
    "#### Preprocess using CountVectorizer (Bag of words)"
   ]
  },
  {
   "cell_type": "code",
   "execution_count": 94,
   "metadata": {},
   "outputs": [],
   "source": [
    "# For the train data\n",
    "train_cv_df = train_df.copy()\n",
    "# For test data\n",
    "test_cv_df = test_df.copy()"
   ]
  },
  {
   "cell_type": "code",
   "execution_count": 137,
   "metadata": {},
   "outputs": [
    {
     "name": "stdout",
     "output_type": "stream",
     "text": [
      "Lowering...\n",
      "Removing usernames...\n",
      "Removing usernames...\n",
      "Removing URLs...\n",
      "Decoding emojis...\n",
      "Removing Punctuation...\n",
      "Removing numbers...\n",
      "Removing double space...\n",
      "Lemmatizing...\n",
      "Fitting vectorizer...\n",
      "Vectorizing...\n",
      "Lowering...\n",
      "Removing usernames...\n",
      "Removing usernames...\n",
      "Removing URLs...\n",
      "Decoding emojis...\n",
      "Removing Punctuation...\n",
      "Removing numbers...\n",
      "Removing double space...\n",
      "Lemmatizing...\n",
      "Vectorizing...\n"
     ]
    }
   ],
   "source": [
    "cv_preprocessor = Preprocessor() # Default vectorizer is the CountVectorizer\n",
    "\n",
    "train_c_vectorized_text = cv_preprocessor.transform(train_cv_df['text'])\n",
    "test_c_vectorized_text = cv_preprocessor.transform(test_cv_df['text'], mode='test')\n",
    "\n",
    "train_c_vectorized_text_df = pd.DataFrame.sparse.from_spmatrix(train_c_vectorized_text, columns= cv_preprocessor.vectorizer.get_feature_names_out())\n",
    "test_c_vectorized_text_df = pd.DataFrame.sparse.from_spmatrix(test_c_vectorized_text, columns= cv_preprocessor.vectorizer.get_feature_names_out())\n",
    "\n",
    "X_cv_train = pd.concat([train_c_vectorized_text_df, train_refers_to_df], axis = 1)\n",
    "y_train = train_df['sentiment']\n",
    "\n",
    "X_cv_test = pd.concat([test_c_vectorized_text_df, test_refers_to_df], axis = 1)\n",
    "y_test = test_df['sentiment']"
   ]
  },
  {
   "cell_type": "code",
   "execution_count": 96,
   "metadata": {},
   "outputs": [
    {
     "name": "stdout",
     "output_type": "stream",
     "text": [
      "(73985, 30031)\n",
      "(73985,)\n"
     ]
    }
   ],
   "source": [
    "print(X_cv_train.shape)\n",
    "print(y_train.shape)"
   ]
  },
  {
   "cell_type": "code",
   "execution_count": 97,
   "metadata": {},
   "outputs": [
    {
     "name": "stdout",
     "output_type": "stream",
     "text": [
      "aa                         0\n",
      "aa aa                      0\n",
      "aa aa aa                   0\n",
      "aaa                        0\n",
      "aaron                      0\n",
      "                          ..\n",
      "x0_TomClancysRainbowSix    0\n",
      "x0_Verizon                 0\n",
      "x0_WorldOfCraft            0\n",
      "x0_Xbox(Xseries)           0\n",
      "x0_johnson&johnson         0\n",
      "Length: 30031, dtype: int64\n"
     ]
    }
   ],
   "source": [
    "print(X_cv_train.isna().sum())\n"
   ]
  },
  {
   "cell_type": "code",
   "execution_count": 98,
   "metadata": {},
   "outputs": [
    {
     "name": "stdout",
     "output_type": "stream",
     "text": [
      "======================================================================\n",
      "LogisticRegression\n",
      "======================================================================\n",
      "              precision    recall  f1-score   support\n",
      "\n",
      "  Irrelevant       0.92      0.97      0.94       172\n",
      "    Negative       1.00      0.95      0.97       266\n",
      "     Neutral       0.96      0.97      0.97       285\n",
      "    Positive       0.95      0.95      0.95       277\n",
      "\n",
      "    accuracy                           0.96      1000\n",
      "   macro avg       0.96      0.96      0.96      1000\n",
      "weighted avg       0.96      0.96      0.96      1000\n",
      "\n"
     ]
    },
    {
     "data": {
      "image/png": "[encoded data removed]",
      "text/plain": [
       "<Figure size 432x288 with 2 Axes>"
      ]
     },
     "metadata": {
      "needs_background": "light"
     },
     "output_type": "display_data"
    },
    {
     "name": "stdout",
     "output_type": "stream",
     "text": [
      "======================================================================\n",
      "RandomForestClassifier\n",
      "======================================================================\n",
      "              precision    recall  f1-score   support\n",
      "\n",
      "  Irrelevant       1.00      0.98      0.99       172\n",
      "    Negative       0.98      0.97      0.97       266\n",
      "     Neutral       0.96      0.97      0.97       285\n",
      "    Positive       0.97      0.98      0.98       277\n",
      "\n",
      "    accuracy                           0.97      1000\n",
      "   macro avg       0.98      0.98      0.98      1000\n",
      "weighted avg       0.98      0.97      0.98      1000\n",
      "\n"
     ]
    },
    {
     "data": {
      "image/png": "[encoded data removed]",
      "text/plain": [
       "<Figure size 432x288 with 2 Axes>"
      ]
     },
     "metadata": {
      "needs_background": "light"
     },
     "output_type": "display_data"
    }
   ],
   "source": [
    "cv_models = fit_train_predict_model(X_cv_train, y_train, X_cv_test, y_test)"
   ]
  },
  {
   "cell_type": "markdown",
   "metadata": {},
   "source": [
    "#### Vectorize the text feature using Tfidf Vectorizer"
   ]
  },
  {
   "cell_type": "code",
   "execution_count": 99,
   "metadata": {},
   "outputs": [
    {
     "name": "stdout",
     "output_type": "stream",
     "text": [
      "Lowering...\n",
      "Removing usernames...\n",
      "Removing usernames...\n",
      "Removing URLs...\n",
      "Decoding emojis...\n",
      "Removing Punctuation...\n",
      "Removing numbers...\n",
      "Removing double space...\n",
      "Lemmatizing...\n",
      "Fitting vectorizer...\n",
      "Vectorizing...\n",
      "Lowering...\n",
      "Removing usernames...\n",
      "Removing usernames...\n",
      "Removing URLs...\n",
      "Decoding emojis...\n",
      "Removing Punctuation...\n",
      "Removing numbers...\n",
      "Removing double space...\n",
      "Lemmatizing...\n",
      "Vectorizing...\n"
     ]
    }
   ],
   "source": [
    "from sklearn.feature_extraction.text import TfidfVectorizer\n",
    "tfidf_preprocessor = Preprocessor(vectorizer=TfidfVectorizer(lowercase=False, max_features=30000,\n",
    "                                         min_df=10, ngram_range=(1, 3)))\n",
    "\n",
    "train_bl_vectorized_text = tfidf_preprocessor.transform(train_bl_df['text'])\n",
    "test_bl_vectorized_text = tfidf_preprocessor.transform(test_bl_df['text'], mode='test')\n",
    "\n",
    "\n",
    "train_bl_vectorized_text_df = pd.DataFrame.sparse.from_spmatrix(train_bl_vectorized_text, columns= tfidf_preprocessor.vectorizer.get_feature_names_out())\n",
    "test_bl_vectorized_text_df = pd.DataFrame.sparse.from_spmatrix(test_bl_vectorized_text, columns= tfidf_preprocessor.vectorizer.get_feature_names_out())\n",
    "\n",
    "X_bl_train = pd.concat([train_bl_vectorized_text_df, train_refers_to_df], axis = 1)\n",
    "y_train = train_df['sentiment']\n",
    "\n",
    "X_bl_test = pd.concat([test_bl_vectorized_text_df, test_refers_to_df], axis = 1)\n",
    "y_test = test_df['sentiment']\n"
   ]
  },
  {
   "cell_type": "code",
   "execution_count": 100,
   "metadata": {},
   "outputs": [
    {
     "name": "stdout",
     "output_type": "stream",
     "text": [
      "(73985, 28685)\n",
      "(73985,)\n"
     ]
    }
   ],
   "source": [
    "print(X_bl_train.shape)\n",
    "print(y_train.shape)"
   ]
  },
  {
   "cell_type": "code",
   "execution_count": 101,
   "metadata": {},
   "outputs": [
    {
     "name": "stdout",
     "output_type": "stream",
     "text": [
      "======================================================================\n",
      "LogisticRegression\n",
      "======================================================================\n",
      "              precision    recall  f1-score   support\n",
      "\n",
      "  Irrelevant       0.92      0.93      0.93       172\n",
      "    Negative       0.95      0.95      0.95       266\n",
      "     Neutral       0.93      0.95      0.94       285\n",
      "    Positive       0.94      0.92      0.93       277\n",
      "\n",
      "    accuracy                           0.94      1000\n",
      "   macro avg       0.94      0.94      0.94      1000\n",
      "weighted avg       0.94      0.94      0.94      1000\n",
      "\n"
     ]
    },
    {
     "data": {
      "image/png": "[encoded data removed]",
      "text/plain": [
       "<Figure size 432x288 with 2 Axes>"
      ]
     },
     "metadata": {
      "needs_background": "light"
     },
     "output_type": "display_data"
    },
    {
     "name": "stdout",
     "output_type": "stream",
     "text": [
      "======================================================================\n",
      "RandomForestClassifier\n",
      "======================================================================\n",
      "              precision    recall  f1-score   support\n",
      "\n",
      "  Irrelevant       0.99      0.96      0.97       172\n",
      "    Negative       0.98      0.97      0.97       266\n",
      "     Neutral       0.96      0.98      0.97       285\n",
      "    Positive       0.97      0.97      0.97       277\n",
      "\n",
      "    accuracy                           0.97      1000\n",
      "   macro avg       0.97      0.97      0.97      1000\n",
      "weighted avg       0.97      0.97      0.97      1000\n",
      "\n"
     ]
    },
    {
     "data": {
      "image/png": "[encoded data removed]",
      "text/plain": [
       "<Figure size 432x288 with 2 Axes>"
      ]
     },
     "metadata": {
      "needs_background": "light"
     },
     "output_type": "display_data"
    }
   ],
   "source": [
    "tfidf_models = fit_train_predict_model(X_bl_train, y_train, X_bl_test, y_test)"
   ]
  },
  {
   "cell_type": "markdown",
   "metadata": {},
   "source": [
    "### Preprocess using word2vec from Genism and NLTK"
   ]
  },
  {
   "cell_type": "code",
   "execution_count": 102,
   "metadata": {},
   "outputs": [],
   "source": [
    "# nltk.download('word2vec_sample')"
   ]
  },
  {
   "cell_type": "code",
   "execution_count": 103,
   "metadata": {},
   "outputs": [],
   "source": [
    "# from nltk.data import find\n",
    "# import gensim\n",
    "\n",
    "# word2vec_sample = str(find('models/word2vec_sample/pruned.word2vec.txt'))\n",
    "# model = gensim.models.KeyedVectors.load_word2vec_format(word2vec_sample, binary=False)\n",
    "# len(model)"
   ]
  },
  {
   "cell_type": "code",
   "execution_count": 104,
   "metadata": {},
   "outputs": [],
   "source": [
    "from nltk.data import find\n",
    "from gensim.models import Word2Vec\n",
    "from gensim.models import Phrases\n",
    "\n",
    "class Word2Vectorizer():\n",
    "    def __init__(self):\n",
    "        self.model = None\n",
    "        self.vector_size = 1000\n",
    "\n",
    "    def fit(self, X):\n",
    "        tweet_list = [word_tokenize(tweet) for tweet in X]\n",
    "        model = gensim.models.Word2Vec(tweet_list, min_count = 1, window = 3, sg = 1, workers = 8, max_vocab_size = 40000, vector_size=self.vector_size)\n",
    "        # model.save('tweets.embedding')\n",
    "        self.model = model\n",
    "        print(len(model.wv))\n",
    "        # word2vec_sample = str(find('models/word2vec_sample/pruned.word2vec.txt'))\n",
    "        # self.model = gensim.models.KeyedVectors.load_word2vec_format(word2vec_sample, binary=False)\n",
    "    \n",
    "    def __wv(self, token):\n",
    "        # try:\n",
    "        return self.model.wv[token]\n",
    "        # except KeyError:\n",
    "        #     print(f'{token} is not found in the model!')\n",
    "        #     # return np.zeros((1,1000))\n",
    "        #     pass\n",
    "    \n",
    "    #Build word vector for training set by using the average value of all word vectors in the tweet, then scale\n",
    "    def __buildWordVector(self, text, size):\n",
    "        vec = np.zeros(size)\n",
    "        count = 0.\n",
    "        for word in text:\n",
    "            try:\n",
    "                vec += self.model.wv[word]\n",
    "                count += 1.\n",
    "            except KeyError:\n",
    "                continue\n",
    "        if count != 0:\n",
    "            vec /= count\n",
    "        return vec\n",
    "\n",
    "    def transform(self, X):\n",
    "        # self.model = gensim.models.Word2Vec.load('tweets.embedding')\n",
    "        tweet_list = [word_tokenize(tweet) for tweet in X]\n",
    "        return [self.__buildWordVector(tweet, self.vector_size) for tweet in tweet_list]\n",
    "         "
   ]
  },
  {
   "cell_type": "code",
   "execution_count": 105,
   "metadata": {},
   "outputs": [],
   "source": [
    "# For the train data\n",
    "train_w2v_df = train_df.copy()\n",
    "# For test data\n",
    "test_w2v_df = test_df.copy()"
   ]
  },
  {
   "cell_type": "code",
   "execution_count": 106,
   "metadata": {},
   "outputs": [
    {
     "name": "stdout",
     "output_type": "stream",
     "text": [
      "Lowering...\n",
      "Removing usernames...\n",
      "Removing usernames...\n",
      "Removing URLs...\n",
      "Decoding emojis...\n",
      "Removing Punctuation...\n",
      "Removing numbers...\n",
      "Removing double space...\n",
      "Lemmatizing...\n",
      "Fitting vectorizer...\n",
      "25574\n",
      "Vectorizing...\n",
      "Lowering...\n",
      "Removing usernames...\n",
      "Removing usernames...\n",
      "Removing URLs...\n",
      "Decoding emojis...\n",
      "Removing Punctuation...\n",
      "Removing numbers...\n",
      "Removing double space...\n",
      "Lemmatizing...\n",
      "Vectorizing...\n",
      "Lowering...\n",
      "Removing usernames...\n",
      "Removing usernames...\n",
      "Removing URLs...\n",
      "Decoding emojis...\n",
      "Removing Punctuation...\n",
      "Removing numbers...\n",
      "Removing double space...\n",
      "Lemmatizing...\n",
      "Vectorizing...\n"
     ]
    }
   ],
   "source": [
    "w2vectorizer = Word2Vectorizer()\n",
    "\n",
    "w2v_preprocessor = Preprocessor(vectorizer=w2vectorizer) # Default vectorizer is the CountVectorizer\n",
    "\n",
    "w2v_preprocessor.transform(pd.concat([train_w2v_df, test_w2v_df], axis = 0)['text'])\n",
    "train_w2v_vectorized_text = w2v_preprocessor.transform(train_w2v_df['text'], mode = 'test')\n",
    "test_w2v_vectorized_text = w2v_preprocessor.transform(test_w2v_df['text'], mode='test')"
   ]
  },
  {
   "cell_type": "code",
   "execution_count": 107,
   "metadata": {},
   "outputs": [],
   "source": [
    "X_w2v_train = pd.DataFrame(train_w2v_vectorized_text)\n",
    "y_train = train_df['sentiment']\n",
    "\n",
    "X_w2v_test = pd.DataFrame(test_w2v_vectorized_text)\n",
    "y_test = test_df['sentiment']"
   ]
  },
  {
   "cell_type": "code",
   "execution_count": 108,
   "metadata": {},
   "outputs": [
    {
     "name": "stdout",
     "output_type": "stream",
     "text": [
      "======================================================================\n",
      "LogisticRegression\n",
      "======================================================================\n",
      "              precision    recall  f1-score   support\n",
      "\n",
      "  Irrelevant       0.46      0.23      0.30       172\n",
      "    Negative       0.56      0.75      0.64       266\n",
      "     Neutral       0.58      0.49      0.53       285\n",
      "    Positive       0.59      0.68      0.63       277\n",
      "\n",
      "    accuracy                           0.57      1000\n",
      "   macro avg       0.55      0.54      0.53      1000\n",
      "weighted avg       0.56      0.57      0.55      1000\n",
      "\n"
     ]
    },
    {
     "data": {
      "image/png": "[encoded data removed]",
      "text/plain": [
       "<Figure size 432x288 with 2 Axes>"
      ]
     },
     "metadata": {
      "needs_background": "light"
     },
     "output_type": "display_data"
    },
    {
     "name": "stdout",
     "output_type": "stream",
     "text": [
      "======================================================================\n",
      "RandomForestClassifier\n",
      "======================================================================\n",
      "              precision    recall  f1-score   support\n",
      "\n",
      "  Irrelevant       0.93      0.86      0.89       172\n",
      "    Negative       0.90      0.94      0.92       266\n",
      "     Neutral       0.92      0.89      0.90       285\n",
      "    Positive       0.89      0.92      0.91       277\n",
      "\n",
      "    accuracy                           0.91      1000\n",
      "   macro avg       0.91      0.90      0.91      1000\n",
      "weighted avg       0.91      0.91      0.91      1000\n",
      "\n"
     ]
    },
    {
     "data": {
      "image/png": "[encoded data removed]",
      "text/plain": [
       "<Figure size 432x288 with 2 Axes>"
      ]
     },
     "metadata": {
      "needs_background": "light"
     },
     "output_type": "display_data"
    }
   ],
   "source": [
    "w2v_models = fit_train_predict_model(X_w2v_train, y_train, X_w2v_test, y_test)"
   ]
  },
  {
   "cell_type": "code",
   "execution_count": 135,
   "metadata": {},
   "outputs": [
    {
     "name": "stdout",
     "output_type": "stream",
     "text": [
      "Lowering...\n",
      "Removing usernames...\n",
      "Removing usernames...\n",
      "Removing URLs...\n",
      "Decoding emojis...\n",
      "Removing Punctuation...\n",
      "Removing numbers...\n",
      "Removing double space...\n",
      "Lemmatizing...\n",
      "Vectorizing...\n",
      "(2, 1000)\n",
      "['Positive' 'Positive']\n"
     ]
    },
    {
     "data": {
      "text/plain": [
       "[('proudly', 0.5929328203201294),\n",
       " ('activate', 0.5792703032493591),\n",
       " ('ultimately', 0.5725193023681641),\n",
       " ('ejat', 0.5684120655059814),\n",
       " ('prep', 0.5659611821174622),\n",
       " ('obtain', 0.5570627450942993),\n",
       " ('bleeding', 0.5556599497795105),\n",
       " ('timeouts', 0.5544898509979248),\n",
       " ('rarely', 0.5540674328804016),\n",
       " ('replied', 0.5535377860069275)]"
      ]
     },
     "execution_count": 135,
     "metadata": {},
     "output_type": "execute_result"
    }
   ],
   "source": [
    "neg_text = 'The movie is not good'\n",
    "pos_text = 'I am having an wonderful day and I am very very happy :)'\n",
    "\n",
    "X_sample_test = w2v_preprocessor.transform([neg_text, pos_text], mode = 'test')\n",
    "print(np.asarray(X_sample_test).shape)\n",
    "print(w2v_models[1].predict(X_sample_test))\n",
    "\n",
    "model = w2v_preprocessor.vectorizer.model\n",
    "model.wv.most_similar('not')"
   ]
  },
  {
   "cell_type": "code",
   "execution_count": 148,
   "metadata": {},
   "outputs": [
    {
     "name": "stdout",
     "output_type": "stream",
     "text": [
      "Lowering...\n",
      "Removing usernames...\n",
      "Removing usernames...\n",
      "Removing URLs...\n",
      "Decoding emojis...\n",
      "Removing Punctuation...\n",
      "Removing numbers...\n",
      "Removing double space...\n",
      "Lemmatizing...\n",
      "Vectorizing...\n",
      "['Negative' 'Positive']\n"
     ]
    }
   ],
   "source": [
    "neg_text = 'The movie is not good'\n",
    "pos_text = 'The weather is great'\n",
    "\n",
    "X_test_text = pd.DataFrame.sparse.from_spmatrix(cv_preprocessor.transform([neg_text, pos_text], mode = 'test'), columns=cv_preprocessor.vectorizer.get_feature_names_out())\n",
    "X_test_refers_to = pd.DataFrame.sparse.from_spmatrix(ohe.transform(np.asarray(['Amazon', 'Facebook']).reshape(-1, 1)), columns=ohe.get_feature_names_out())\n",
    "X_test_test = pd.concat([X_test_text, X_test_refers_to], axis = 1)\n",
    "print(cv_models[1].predict(X_test_test))"
   ]
  }
 ],
 "metadata": {
  "kernelspec": {
   "display_name": "Python 3 (ipykernel)",
   "language": "python",
   "name": "python3"
  },
  "language_info": {
   "codemirror_mode": {
    "name": "ipython",
    "version": 3
   },
   "file_extension": ".py",
   "mimetype": "text/x-python",
   "name": "python",
   "nbconvert_exporter": "python",
   "pygments_lexer": "ipython3",
   "version": "3.9.12"
  },
  "vscode": {
   "interpreter": {
    "hash": "f80965f066677f8462b610984e6475e86a778a881c0493eb11da4d2e70896041"
   }
  }
 },
 "nbformat": 4,
 "nbformat_minor": 2
}
